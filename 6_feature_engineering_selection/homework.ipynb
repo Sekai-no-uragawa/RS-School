{
 "cells": [
  {
   "cell_type": "code",
   "execution_count": 1,
   "metadata": {
    "ExecuteTime": {
     "end_time": "2022-04-10T16:14:21.302411Z",
     "start_time": "2022-04-10T16:14:19.259124Z"
    }
   },
   "outputs": [],
   "source": [
    "import numpy as np\n",
    "import pandas as pd\n",
    "import seaborn as sns\n",
    "import matplotlib.pyplot as plt\n",
    "\n",
    "from sklearn.impute import SimpleImputer\n",
    "from sklearn.preprocessing import StandardScaler, MinMaxScaler, OrdinalEncoder, OneHotEncoder\n",
    "from sklearn.decomposition import PCA\n",
    "\n",
    "from sklearn.feature_selection import VarianceThreshold, SelectFromModel, RFECV, SequentialFeatureSelector\n",
    "\n",
    "from sklearn.ensemble import RandomForestClassifier, RandomForestRegressor\n",
    "from sklearn.linear_model import LogisticRegression\n",
    "\n",
    "from sklearn.model_selection import KFold, cross_val_score, train_test_split\n",
    "from sklearn.pipeline import Pipeline, make_pipeline\n",
    "from sklearn.metrics import accuracy_score\n",
    "\n",
    "from sklearn.datasets import make_classification, load_wine, load_breast_cancer, load_diabetes, load_digits"
   ]
  },
  {
   "cell_type": "code",
   "execution_count": 2,
   "metadata": {
    "ExecuteTime": {
     "end_time": "2022-04-10T16:14:22.430114Z",
     "start_time": "2022-04-10T16:14:22.412120Z"
    }
   },
   "outputs": [],
   "source": [
    "plt.style.use('seaborn-darkgrid')"
   ]
  },
  {
   "cell_type": "code",
   "execution_count": 3,
   "metadata": {
    "ExecuteTime": {
     "end_time": "2022-04-10T16:14:22.620099Z",
     "start_time": "2022-04-10T16:14:22.611124Z"
    }
   },
   "outputs": [],
   "source": [
    "def plot_scatter(x, y, auto_scaled=True, title=None, clusters=None):\n",
    "    plt.figure(figsize=(4, 4))\n",
    "    plt.scatter(x, y, c=clusters, cmap='bwr')\n",
    "    \n",
    "    if not auto_scaled:\n",
    "        plt.axis('square')\n",
    "    \n",
    "    plt.grid(True)\n",
    "    plt.title(title)\n",
    "    \n",
    "    plt.show()\n",
    "    \n",
    "def return_X_y(data, target_column):\n",
    "    return data.drop(target_column, axis=1), data[target_column]"
   ]
  },
  {
   "cell_type": "code",
   "execution_count": 4,
   "metadata": {
    "ExecuteTime": {
     "end_time": "2022-04-10T16:14:22.808970Z",
     "start_time": "2022-04-10T16:14:22.787822Z"
    }
   },
   "outputs": [],
   "source": [
    "wine_sklearn = load_wine(as_frame=True)\n",
    "wine_data, wine_labels = wine_sklearn['data'], wine_sklearn['target']"
   ]
  },
  {
   "cell_type": "markdown",
   "metadata": {},
   "source": [
    "# Homework"
   ]
  },
  {
   "cell_type": "markdown",
   "metadata": {},
   "source": [
    "## Exercise  1 - Scaling (2 points)"
   ]
  },
  {
   "cell_type": "markdown",
   "metadata": {},
   "source": [
    "Perform standardization for wine dataset (`wine_data`) using only basic python, numpy and pandas (without using `StandardScaler` and sklearn at all). Implementation of function (or class) that can get dataset as input and return standardized dataset as output is preferrable, but not necessary.\n",
    "\n",
    "Compare you results (output) with `StandardScaler`.\n",
    "\n",
    "**NOTE:**\n",
    "\n",
    "- 1 point for functional version, 2 points for implementing scaling as sklearn pipeline compartible class. \n",
    "- Maximum for the exercise is 2 points.\n"
   ]
  },
  {
   "cell_type": "markdown",
   "metadata": {},
   "source": [
    "### Simple version (1 point)"
   ]
  },
  {
   "cell_type": "code",
   "execution_count": 5,
   "metadata": {
    "ExecuteTime": {
     "end_time": "2022-04-10T16:14:23.708069Z",
     "start_time": "2022-04-10T16:14:23.696102Z"
    }
   },
   "outputs": [],
   "source": [
    "# 1 point\n",
    "#def scale(X):\n",
    "    # your code here"
   ]
  },
  {
   "cell_type": "code",
   "execution_count": 6,
   "metadata": {
    "ExecuteTime": {
     "end_time": "2022-04-10T16:14:23.739159Z",
     "start_time": "2022-04-10T16:14:23.730184Z"
    }
   },
   "outputs": [],
   "source": [
    "#assert np.allclose(np.array(scale(wine_data)), StandardScaler().fit_transform(wine_data))"
   ]
  },
  {
   "cell_type": "markdown",
   "metadata": {},
   "source": [
    "### Pipeline Version (2 points)"
   ]
  },
  {
   "cell_type": "code",
   "execution_count": 7,
   "metadata": {
    "ExecuteTime": {
     "end_time": "2022-04-10T16:14:23.802033Z",
     "start_time": "2022-04-10T16:14:23.792021Z"
    }
   },
   "outputs": [],
   "source": [
    "from sklearn.base import BaseEstimator, TransformerMixin\n",
    "class CustomScaler(BaseEstimator, TransformerMixin):\n",
    "    def __init__(self, copy=True, with_mean=True, with_std=True):\n",
    "        self.with_mean = with_mean\n",
    "        self.with_std = with_std\n",
    "        self.copy = copy\n",
    "\n",
    "    def fit(self, X, y=None):\n",
    "        self.mean = X.mean()\n",
    "        self.std = X.std(ddof=0)\n",
    "        return self\n",
    "\n",
    "    def transform(self, X, y=None, copy=None):\n",
    "        if self.with_mean and self.with_std:\n",
    "            return np.array((X - self.mean) / self.std)\n",
    "        elif self.with_mean:\n",
    "            return np.array(X - self.mean)\n",
    "        elif self.with_std:\n",
    "            return np.array(X / self.std)\n",
    "        return X"
   ]
  },
  {
   "cell_type": "code",
   "execution_count": 8,
   "metadata": {
    "ExecuteTime": {
     "end_time": "2022-04-10T16:14:23.849516Z",
     "start_time": "2022-04-10T16:14:23.826579Z"
    }
   },
   "outputs": [],
   "source": [
    "assert np.allclose(CustomScaler().fit_transform(wine_data), StandardScaler().fit_transform(wine_data))"
   ]
  },
  {
   "cell_type": "markdown",
   "metadata": {},
   "source": [
    "## Exercise  2 - Visualization (3 points)"
   ]
  },
  {
   "cell_type": "markdown",
   "metadata": {},
   "source": [
    "As noted earlier, standardization/normalization of data can be crucial for some distance-based ML methods.\n",
    "\n",
    "Let’s generate some toy example of unnormalized data and visualize the importance of this process once more:"
   ]
  },
  {
   "cell_type": "code",
   "execution_count": 9,
   "metadata": {
    "ExecuteTime": {
     "end_time": "2022-04-10T16:14:23.944964Z",
     "start_time": "2022-04-10T16:14:23.924061Z"
    }
   },
   "outputs": [
    {
     "data": {
      "text/plain": [
       "array([[16.25209525,  0.2888137 ],\n",
       "       [10.96509531, -0.83382405],\n",
       "       [12.19513805, -0.69861295],\n",
       "       ...,\n",
       "       [ 7.61744942,  4.7560901 ],\n",
       "       [-7.11686871,  5.57252364],\n",
       "       [-2.36251721,  5.22204308]])"
      ]
     },
     "execution_count": 9,
     "metadata": {},
     "output_type": "execute_result"
    }
   ],
   "source": [
    "feature_0 = np.random.randn(1000) * 10   \n",
    "feature_1 = np.concatenate([np.random.randn(500), np.random.randn(500) + 5])\n",
    "data = np.column_stack([feature_0, feature_1])\n",
    "data "
   ]
  },
  {
   "cell_type": "code",
   "execution_count": 10,
   "metadata": {
    "ExecuteTime": {
     "end_time": "2022-04-10T16:14:24.149415Z",
     "start_time": "2022-04-10T16:14:23.953978Z"
    }
   },
   "outputs": [
    {
     "data": {
      "image/png": "[encoded data removed]",
      "text/plain": [
       "<Figure size 288x288 with 1 Axes>"
      ]
     },
     "metadata": {},
     "output_type": "display_data"
    }
   ],
   "source": [
    "plot_scatter(data[:, 0], data[:, 1], auto_scaled=True, title='Data (different axes units!)')"
   ]
  },
  {
   "cell_type": "markdown",
   "metadata": {},
   "source": [
    "**NOTE:** on the plot above axes are scaled differently and we can clearly see two potential *classes/clusters*. In fact `matplotlib` performed `autoscaling` (which is basically can be considered as `MinMaxScaling` of original data) just for better visualization purposes.\n",
    "\n",
    "Let's turn this feature off and visualize the original data on the plot with equally scaled axes:"
   ]
  },
  {
   "cell_type": "code",
   "execution_count": 11,
   "metadata": {
    "ExecuteTime": {
     "end_time": "2022-04-10T16:14:24.338908Z",
     "start_time": "2022-04-10T16:14:24.153405Z"
    }
   },
   "outputs": [
    {
     "data": {
      "image/png": "[encoded data removed]",
      "text/plain": [
       "<Figure size 288x288 with 1 Axes>"
      ]
     },
     "metadata": {},
     "output_type": "display_data"
    }
   ],
   "source": [
    "plot_scatter(data[:, 0], data[:, 1], auto_scaled=False , title='Data (equal axes units!)')"
   ]
  },
  {
   "cell_type": "markdown",
   "metadata": {},
   "source": [
    "This picture is clearly less interpretable, but much closer to \"how distance-based algorithm see the original data\": separability of data is hardly noticable only because the variation (std) of x-feature is much bigger in absolute numbers."
   ]
  },
  {
   "cell_type": "markdown",
   "metadata": {},
   "source": [
    "Perform `StandardScaling` and `MinMaxScaling` of original data; visualize results for each case (**use `plot_scatter` with `auto_scaled=False`**):"
   ]
  },
  {
   "cell_type": "markdown",
   "metadata": {},
   "source": [
    "### MinMaxScaling (0.5 point)"
   ]
  },
  {
   "cell_type": "code",
   "execution_count": 12,
   "metadata": {
    "ExecuteTime": {
     "end_time": "2022-04-10T16:14:24.510452Z",
     "start_time": "2022-04-10T16:14:24.341902Z"
    }
   },
   "outputs": [
    {
     "data": {
      "image/png": "[encoded data removed]",
      "text/plain": [
       "<Figure size 288x288 with 1 Axes>"
      ]
     },
     "metadata": {},
     "output_type": "display_data"
    }
   ],
   "source": [
    "minmaxsca_data = MinMaxScaler().fit_transform(data)\n",
    "plot_scatter(minmaxsca_data[:, 0], minmaxsca_data[:, 1], auto_scaled=False, title='MinMaxScaling Data')"
   ]
  },
  {
   "cell_type": "markdown",
   "metadata": {},
   "source": [
    "### StandardScaler (0.5 point)"
   ]
  },
  {
   "cell_type": "code",
   "execution_count": 13,
   "metadata": {
    "ExecuteTime": {
     "end_time": "2022-04-10T16:14:24.670025Z",
     "start_time": "2022-04-10T16:14:24.513443Z"
    }
   },
   "outputs": [
    {
     "data": {
      "image/png": "[encoded data removed]",
      "text/plain": [
       "<Figure size 288x288 with 1 Axes>"
      ]
     },
     "metadata": {},
     "output_type": "display_data"
    }
   ],
   "source": [
    "standartsca_data = StandardScaler().fit_transform(data)\n",
    "plot_scatter(standartsca_data[:, 0], standartsca_data[:, 1], auto_scaled=False, title='StandardScaler Data')"
   ]
  },
  {
   "cell_type": "markdown",
   "metadata": {},
   "source": [
    "### (Bonus) K-means (2 points)"
   ]
  },
  {
   "cell_type": "markdown",
   "metadata": {},
   "source": [
    "Illustrate the impact of scaling on basic distance-based clustering algorithm [K-means](https://towardsdatascience.com/understanding-k-means-clustering-in-machine-learning-6a6e67336aa1) using `data` generated above.\n",
    "\n",
    "**NOTE:** basically, you don't need understanding K-means algorithm here, you just need to:\n",
    "\n",
    "1) run algorithm (with k=2, k - number of clusters/classes) on unscaled data    \n",
    "2) run algorithm (with k=2) on scaled data    \n",
    "3) plot results: highlight different clusters using different colors.\n",
    "\n",
    "You can use this [question](https://stats.stackexchange.com/questions/89809/is-it-important-to-scale-data-before-clustering/89813) as a hint, but I recommend you to plot results using `plot_scatter` with `equal_scaled=True`: it might help you to intuitively understand the reasons of such scaling impact.\n"
   ]
  },
  {
   "cell_type": "code",
   "execution_count": 14,
   "metadata": {
    "ExecuteTime": {
     "end_time": "2022-04-10T16:14:24.717898Z",
     "start_time": "2022-04-10T16:14:24.673017Z"
    }
   },
   "outputs": [],
   "source": [
    "from sklearn.cluster import KMeans\n",
    "\n",
    "km = KMeans(2)"
   ]
  },
  {
   "cell_type": "code",
   "execution_count": 15,
   "metadata": {
    "ExecuteTime": {
     "end_time": "2022-04-10T16:14:24.858520Z",
     "start_time": "2022-04-10T16:14:24.719891Z"
    }
   },
   "outputs": [],
   "source": [
    "no_sca_data = km.fit_predict(data)\n",
    "sca_data = km.fit_predict(StandardScaler().fit_transform(data))"
   ]
  },
  {
   "cell_type": "code",
   "execution_count": 16,
   "metadata": {
    "ExecuteTime": {
     "end_time": "2022-04-10T16:14:25.048014Z",
     "start_time": "2022-04-10T16:14:24.860516Z"
    }
   },
   "outputs": [
    {
     "data": {
      "image/png": "[encoded data removed]",
      "text/plain": [
       "<Figure size 288x288 with 1 Axes>"
      ]
     },
     "metadata": {},
     "output_type": "display_data"
    }
   ],
   "source": [
    "plot_scatter(x=data[:, 0], y=data[:, 1], clusters=no_sca_data, auto_scaled=False, title='K-means on unscaled data')"
   ]
  },
  {
   "cell_type": "code",
   "execution_count": 17,
   "metadata": {
    "ExecuteTime": {
     "end_time": "2022-04-10T16:14:25.252468Z",
     "start_time": "2022-04-10T16:14:25.050009Z"
    }
   },
   "outputs": [
    {
     "data": {
      "image/png": "[encoded data removed]",
      "text/plain": [
       "<Figure size 288x288 with 1 Axes>"
      ]
     },
     "metadata": {},
     "output_type": "display_data"
    }
   ],
   "source": [
    "plot_scatter(x=data[:, 0], y=data[:, 1], clusters=sca_data, auto_scaled=False, title='K-means on scaled data')"
   ]
  },
  {
   "cell_type": "markdown",
   "metadata": {},
   "source": [
    "## Exercise  3 - Preprocessing Pipeline (2 points)"
   ]
  },
  {
   "cell_type": "code",
   "execution_count": 18,
   "metadata": {
    "ExecuteTime": {
     "end_time": "2022-04-10T16:14:25.268431Z",
     "start_time": "2022-04-10T16:14:25.256457Z"
    }
   },
   "outputs": [],
   "source": [
    "wine_train, wine_val, wine_labels_train, wine_labels_val = train_test_split(wine_data, wine_labels, \n",
    "                                                                            test_size=0.3, random_state=42)"
   ]
  },
  {
   "cell_type": "markdown",
   "metadata": {},
   "source": [
    "Train model (for example, `LogisticRegression(solver='liblinear', penalty='l1')` on raw `wine_train` data; then train same model after data scaling; then add feature selection (and train model again on scaled data). For each experiment all required preprocessing steps (if any) should be wrapped into sklearn pipeline.\n",
    "\n",
    "Measure `accuracy` of all 3 approaches on `wine_val` dataset. Describe and explain results."
   ]
  },
  {
   "cell_type": "code",
   "execution_count": 19,
   "metadata": {
    "ExecuteTime": {
     "end_time": "2022-04-10T16:14:25.299375Z",
     "start_time": "2022-04-10T16:14:25.270428Z"
    }
   },
   "outputs": [
    {
     "data": {
      "text/plain": [
       "0.9814814814814815"
      ]
     },
     "execution_count": 19,
     "metadata": {},
     "output_type": "execute_result"
    }
   ],
   "source": [
    "# Train model on raw wine_train data\n",
    "\n",
    "model_raw = LogisticRegression(solver='liblinear', penalty='l1')\n",
    "model_raw.fit(wine_train, wine_labels_train)\n",
    "\n",
    "accuracy_score(wine_labels_val, model_raw.predict(wine_val))"
   ]
  },
  {
   "cell_type": "code",
   "execution_count": 20,
   "metadata": {
    "ExecuteTime": {
     "end_time": "2022-04-10T16:14:25.315331Z",
     "start_time": "2022-04-10T16:14:25.303364Z"
    }
   },
   "outputs": [
    {
     "data": {
      "text/plain": [
       "array([[-2.26677432e-01,  3.54913476e-01,  3.57146206e-01,\n",
       "        -5.18241643e-01, -4.39001795e-02,  0.00000000e+00,\n",
       "         2.14813777e+00,  0.00000000e+00,  0.00000000e+00,\n",
       "         0.00000000e+00,  0.00000000e+00,  0.00000000e+00,\n",
       "         1.36324050e-02],\n",
       "       [ 8.04160670e-01, -9.34213386e-01,  0.00000000e+00,\n",
       "         2.40344441e-01,  4.77862188e-03,  0.00000000e+00,\n",
       "         4.10447811e-01,  0.00000000e+00,  8.03205823e-01,\n",
       "        -1.93397591e+00,  0.00000000e+00,  9.41050491e-02,\n",
       "        -1.13472631e-02],\n",
       "       [ 0.00000000e+00,  2.76886749e-01,  0.00000000e+00,\n",
       "         4.24763420e-02,  7.76041368e-03,  0.00000000e+00,\n",
       "        -2.83591848e+00,  0.00000000e+00,  0.00000000e+00,\n",
       "         9.46069811e-01,  0.00000000e+00, -1.61359800e+00,\n",
       "        -5.50675119e-04]])"
      ]
     },
     "execution_count": 20,
     "metadata": {},
     "output_type": "execute_result"
    }
   ],
   "source": [
    "model_raw.coef_"
   ]
  },
  {
   "cell_type": "code",
   "execution_count": 21,
   "metadata": {
    "ExecuteTime": {
     "end_time": "2022-04-10T16:14:25.346250Z",
     "start_time": "2022-04-10T16:14:25.321320Z"
    },
    "scrolled": true
   },
   "outputs": [
    {
     "data": {
      "text/plain": [
       "0.9814814814814815"
      ]
     },
     "execution_count": 21,
     "metadata": {},
     "output_type": "execute_result"
    }
   ],
   "source": [
    "# Train model after scaling wine_train data\n",
    "\n",
    "scaler_pipe = Pipeline(\n",
    "    [\n",
    "        ('Scaler', StandardScaler()),\n",
    "    ]\n",
    ")\n",
    "\n",
    "model_sca = LogisticRegression(solver='liblinear', penalty='l1')\n",
    "model_sca.fit(scaler_pipe.fit_transform(wine_train), wine_labels_train)\n",
    "\n",
    "accuracy_score(wine_labels_val, model_sca.predict(scaler_pipe.transform(wine_val)))"
   ]
  },
  {
   "cell_type": "code",
   "execution_count": 22,
   "metadata": {
    "ExecuteTime": {
     "end_time": "2022-04-10T16:14:25.362206Z",
     "start_time": "2022-04-10T16:14:25.349244Z"
    }
   },
   "outputs": [
    {
     "data": {
      "text/plain": [
       "array([[ 1.41768997,  0.        ,  0.96995251, -1.58593691,  0.        ,\n",
       "         0.        ,  1.00122059,  0.        ,  0.        ,  0.        ,\n",
       "         0.        ,  0.82063451,  1.89152933],\n",
       "       [-1.87707552, -0.09665329, -1.28166005,  0.82124799,  0.        ,\n",
       "         0.        ,  0.26213962,  0.        ,  0.4531523 , -1.52753767,\n",
       "         1.60363349,  0.        , -2.01280132],\n",
       "       [ 0.        ,  0.10253159,  0.40390366,  0.        ,  0.        ,\n",
       "         0.        , -1.90056879,  0.        , -0.17311808,  1.5942503 ,\n",
       "        -1.28200337, -0.63718882,  0.        ]])"
      ]
     },
     "execution_count": 22,
     "metadata": {},
     "output_type": "execute_result"
    }
   ],
   "source": [
    "model_sca.coef_"
   ]
  },
  {
   "cell_type": "code",
   "execution_count": 23,
   "metadata": {
    "ExecuteTime": {
     "end_time": "2022-04-10T16:14:25.394121Z",
     "start_time": "2022-04-10T16:14:25.364201Z"
    }
   },
   "outputs": [
    {
     "data": {
      "text/plain": [
       "1.0"
      ]
     },
     "execution_count": 23,
     "metadata": {},
     "output_type": "execute_result"
    }
   ],
   "source": [
    "# Train model after scaling wine_train data and add feature selection\n",
    "\n",
    "scaler_and_select_pipe = Pipeline(\n",
    "    [\n",
    "        ('SelectFromModel', SelectFromModel(LogisticRegression(solver='liblinear', penalty='l1'))),\n",
    "        ('Scaler', StandardScaler()),\n",
    "    ]\n",
    ")\n",
    "\n",
    "model_sca_and_select = LogisticRegression(solver='liblinear', penalty='l1')\n",
    "model_sca_and_select.fit(scaler_and_select_pipe.fit_transform(wine_train, y=wine_labels_train), wine_labels_train)\n",
    "\n",
    "accuracy_score(wine_labels_val, model_sca_and_select.predict(scaler_and_select_pipe.transform(wine_val)))"
   ]
  },
  {
   "cell_type": "code",
   "execution_count": 24,
   "metadata": {
    "ExecuteTime": {
     "end_time": "2022-04-10T16:14:25.410079Z",
     "start_time": "2022-04-10T16:14:25.395120Z"
    }
   },
   "outputs": [
    {
     "data": {
      "text/plain": [
       "array([[ 1.41837232,  0.        ,  0.96937521, -1.58574086,  0.        ,\n",
       "         1.00213985,  0.        ,  0.        ,  0.82186672,  1.89179861],\n",
       "       [-1.45081465, -0.49143957, -1.05290279,  0.77815112, -0.00607881,\n",
       "         0.63929617,  0.19225552, -2.50144207,  0.20083148, -1.82815662],\n",
       "       [ 0.        ,  0.40966788,  0.40465408,  0.        ,  0.        ,\n",
       "        -2.09084655,  0.        ,  1.80153445, -1.18266824,  0.        ]])"
      ]
     },
     "execution_count": 24,
     "metadata": {},
     "output_type": "execute_result"
    }
   ],
   "source": [
    "model_sca_and_select.coef_"
   ]
  },
  {
   "cell_type": "markdown",
   "metadata": {},
   "source": [
    "Видно, что на неотскалированных данных коэффициенты модели получились очень странными и несоразмерными, у модели на отскалированных данных уже видно что получилось занулить часть весов у параметров, а при использовании SelectFromModel, модель откинула часть фич заранее, а затем обнуляла среди оставшихся"
   ]
  },
  {
   "cell_type": "markdown",
   "metadata": {},
   "source": [
    "## Exercise 4 - manual PCA (5 points)\n",
    "The task is to solve PCA as an optimization problem, without explicitly doing eigen value decomposition.\n",
    "In the most general setting PCA is minimization of reconstruction error of a projection of given rank $q$\n",
    "\n",
    "$$\\min_{\\mu, \\lambda_1,\\ldots, \\lambda_n, \\mathbf{V}_q} \\sum_{i=1}^n ||x_i - \\mu - \\mathbf{V}_q \\lambda_i||^2$$\n",
    "\n",
    "With a number of steps that can be found here https://stats.stackexchange.com/a/10260 this task transforms to\n",
    " $$\\max_{u_i} \\sum_{i=1}^q u_i^T \\mathbf{S} u_i$$\n",
    " where $\\mathbf{S}$ is the sample covariance matrix (after standartization) and $u_1, \\ldots, u_q$ are the $q$ are orthonormal columns in $\\mathbf{V}_q$.\n",
    " Let us solve this optimization problem with `scipy.optimize` library.\n",
    " \n",
    " Additional 2 point are given for visualization of the results."
   ]
  },
  {
   "cell_type": "markdown",
   "metadata": {},
   "source": [
    "### PCA (3 points)"
   ]
  },
  {
   "cell_type": "code",
   "execution_count": 25,
   "metadata": {
    "ExecuteTime": {
     "end_time": "2022-04-10T16:14:25.425038Z",
     "start_time": "2022-04-10T16:14:25.412073Z"
    }
   },
   "outputs": [],
   "source": [
    "wine_data, wine_labels = wine_sklearn['data'], wine_sklearn['target']"
   ]
  },
  {
   "cell_type": "markdown",
   "metadata": {},
   "source": [
    "Find a covariance matrix of standartized data and assing it to S."
   ]
  },
  {
   "cell_type": "code",
   "execution_count": 26,
   "metadata": {
    "ExecuteTime": {
     "end_time": "2022-04-10T16:14:25.440996Z",
     "start_time": "2022-04-10T16:14:25.430026Z"
    }
   },
   "outputs": [],
   "source": [
    "scaler = StandardScaler()\n",
    "wine_data_scaled = scaler.fit_transform(wine_data)\n",
    "\n",
    "S = wine_data_scaled.T @ wine_data_scaled / (wine_data_scaled.shape[0] - 1)"
   ]
  },
  {
   "cell_type": "markdown",
   "metadata": {},
   "source": [
    "If your code is correct, the following assert should be Ok."
   ]
  },
  {
   "cell_type": "code",
   "execution_count": 27,
   "metadata": {
    "ExecuteTime": {
     "end_time": "2022-04-10T16:14:25.456953Z",
     "start_time": "2022-04-10T16:14:25.443989Z"
    }
   },
   "outputs": [],
   "source": [
    "assert np.allclose(np.linalg.norm(S), 5.787241159764733)"
   ]
  },
  {
   "cell_type": "code",
   "execution_count": 28,
   "metadata": {
    "ExecuteTime": {
     "end_time": "2022-04-10T16:14:25.503273Z",
     "start_time": "2022-04-10T16:14:25.458948Z"
    }
   },
   "outputs": [],
   "source": [
    "from scipy.optimize import minimize\n",
    "\n",
    "def objective(x):\n",
    "    return - x.T @ S @ x\n",
    "\n",
    "def norm_constraint(x):\n",
    "    return np.linalg.norm(x) - 1\n",
    "\n",
    "con1 = {'type': 'eq', 'fun': norm_constraint}\n",
    "\n",
    "x0 = np.zeros(13)\n",
    "\n",
    "sol = minimize(objective, \n",
    "               x0, \n",
    "               constraints = [con1]\n",
    "              )\n",
    "x0 = sol.x"
   ]
  },
  {
   "cell_type": "code",
   "execution_count": 29,
   "metadata": {
    "ExecuteTime": {
     "end_time": "2022-04-10T16:14:25.519238Z",
     "start_time": "2022-04-10T16:14:25.504276Z"
    }
   },
   "outputs": [
    {
     "data": {
      "text/plain": [
       "array([ 0.14433533, -0.24519361, -0.00205055, -0.23931168,  0.1419914 ,\n",
       "        0.39466364,  0.42293324, -0.29853202,  0.31343064, -0.08861938,\n",
       "        0.29670784,  0.37617242,  0.28674884])"
      ]
     },
     "execution_count": 29,
     "metadata": {},
     "output_type": "execute_result"
    }
   ],
   "source": [
    "x0"
   ]
  },
  {
   "cell_type": "markdown",
   "metadata": {},
   "source": [
    "Hurray! We have first vector! Let's do another one."
   ]
  },
  {
   "cell_type": "code",
   "execution_count": 30,
   "metadata": {
    "ExecuteTime": {
     "end_time": "2022-04-10T16:14:25.567114Z",
     "start_time": "2022-04-10T16:14:25.521232Z"
    }
   },
   "outputs": [],
   "source": [
    "def orthogonality_constraint(x):\n",
    "    return x @ x0\n",
    "\n",
    "con2 = {'type': 'eq', 'fun': orthogonality_constraint}\n",
    "\n",
    "x1 = np.zeros(13)\n",
    "\n",
    "sol = minimize(objective, \n",
    "               x1, \n",
    "               constraints = [con1, con2]\n",
    "              )\n",
    "\n",
    "x1 = sol.x"
   ]
  },
  {
   "cell_type": "markdown",
   "metadata": {},
   "source": [
    "If your solution is correct, the following asserts should be Ok."
   ]
  },
  {
   "cell_type": "code",
   "execution_count": 31,
   "metadata": {
    "ExecuteTime": {
     "end_time": "2022-04-10T16:14:25.583068Z",
     "start_time": "2022-04-10T16:14:25.569104Z"
    }
   },
   "outputs": [],
   "source": [
    "assert np.allclose(x0@S@x0, 4.732436977583595)\n",
    "assert np.allclose(x1@S@x1, 2.5110809296451233)"
   ]
  },
  {
   "cell_type": "markdown",
   "metadata": {},
   "source": [
    "### Visualization (2 points)"
   ]
  },
  {
   "cell_type": "markdown",
   "metadata": {},
   "source": [
    "Visualize the points after applying custom dimension reduction with 2 components."
   ]
  },
  {
   "cell_type": "code",
   "execution_count": 32,
   "metadata": {
    "ExecuteTime": {
     "end_time": "2022-04-10T16:14:25.959711Z",
     "start_time": "2022-04-10T16:14:25.947675Z"
    }
   },
   "outputs": [],
   "source": [
    "wine_data_projected = wine_data_scaled @ np.array([x0, -x1]).T"
   ]
  },
  {
   "cell_type": "code",
   "execution_count": 33,
   "metadata": {
    "ExecuteTime": {
     "end_time": "2022-04-10T16:14:26.133146Z",
     "start_time": "2022-04-10T16:14:26.124132Z"
    }
   },
   "outputs": [],
   "source": [
    "# Сравним с библиотечным PCA\n",
    "pca = PCA(n_components=2)\n",
    "scaler = StandardScaler()\n",
    "wine_data_scaled = scaler.fit_transform(wine_data)\n",
    "wine_data_scaled_pca = pca.fit_transform(wine_data_scaled)"
   ]
  },
  {
   "cell_type": "code",
   "execution_count": 34,
   "metadata": {
    "ExecuteTime": {
     "end_time": "2022-04-10T16:14:26.305856Z",
     "start_time": "2022-04-10T16:14:26.290858Z"
    }
   },
   "outputs": [
    {
     "data": {
      "text/plain": [
       "array([[ 3.31675649, -1.44344462],\n",
       "       [ 2.20944688,  0.33341873],\n",
       "       [ 2.51673862, -1.03116617],\n",
       "       [ 3.7570736 , -2.75637925],\n",
       "       [ 1.00891601, -0.86986535]])"
      ]
     },
     "execution_count": 34,
     "metadata": {},
     "output_type": "execute_result"
    }
   ],
   "source": [
    "wine_data_projected[0:5]"
   ]
  },
  {
   "cell_type": "code",
   "execution_count": 35,
   "metadata": {
    "ExecuteTime": {
     "end_time": "2022-04-10T16:14:26.462310Z",
     "start_time": "2022-04-10T16:14:26.443267Z"
    }
   },
   "outputs": [
    {
     "data": {
      "text/plain": [
       "array([[ 3.31675081, -1.44346263],\n",
       "       [ 2.20946492,  0.33339289],\n",
       "       [ 2.51674015, -1.0311513 ],\n",
       "       [ 3.75706561, -2.75637191],\n",
       "       [ 1.00890849, -0.86983082]])"
      ]
     },
     "execution_count": 35,
     "metadata": {},
     "output_type": "execute_result"
    }
   ],
   "source": [
    "wine_data_scaled_pca[0:5]"
   ]
  },
  {
   "cell_type": "code",
   "execution_count": 36,
   "metadata": {
    "ExecuteTime": {
     "end_time": "2022-04-10T16:14:26.854368Z",
     "start_time": "2022-04-10T16:14:26.611690Z"
    }
   },
   "outputs": [
    {
     "data": {
      "image/png": "[encoded data removed]",
      "text/plain": [
       "<Figure size 288x288 with 1 Axes>"
      ]
     },
     "metadata": {},
     "output_type": "display_data"
    },
    {
     "data": {
      "image/png": "[encoded data removed]",
      "text/plain": [
       "<Figure size 288x288 with 1 Axes>"
      ]
     },
     "metadata": {},
     "output_type": "display_data"
    }
   ],
   "source": [
    "plot_scatter(x=wine_data_projected[:, 0],\n",
    "             y=wine_data_projected[:, 1],\n",
    "             clusters=wine_labels,\n",
    "             auto_scaled=False,\n",
    "             title='Data after applying custom dimension reduction with 2 components.')\n",
    "\n",
    "plot_scatter(x=wine_data_scaled_pca[:, 0],\n",
    "             y=wine_data_scaled_pca[:, 1],\n",
    "             clusters=wine_labels,\n",
    "             auto_scaled=False,\n",
    "             title='Data after applying libriary PCA dimension reduction with 2 components.')\n"
   ]
  },
  {
   "cell_type": "markdown",
   "metadata": {},
   "source": [
    "## Exercise 5 - Boruta (3 points)\n",
    "\n",
    "Let us classify handwritten digits 0, 1 and 2. \n",
    "To make task not so easy the images are binarized (no shadows of gray present) as it happens with xerocopied documents.\n",
    "\n",
    "Let us also find out to which parts of an image there's no need to look in order to clasify three digits of interest."
   ]
  },
  {
   "cell_type": "code",
   "execution_count": 37,
   "metadata": {
    "ExecuteTime": {
     "end_time": "2022-04-10T16:14:27.073715Z",
     "start_time": "2022-04-10T16:14:26.931009Z"
    }
   },
   "outputs": [],
   "source": [
    "X, y = load_digits(n_class=3, return_X_y=True, as_frame=True)\n",
    "X = (X>10).astype(int)"
   ]
  },
  {
   "cell_type": "code",
   "execution_count": 38,
   "metadata": {
    "ExecuteTime": {
     "end_time": "2022-04-10T16:14:27.423827Z",
     "start_time": "2022-04-10T16:14:27.082698Z"
    }
   },
   "outputs": [
    {
     "data": {
      "image/png": "[encoded data removed]",
      "text/plain": [
       "<Figure size 1000x400 with 3 Axes>"
      ]
     },
     "metadata": {},
     "output_type": "display_data"
    }
   ],
   "source": [
    "plt.style.use('default')\n",
    "f, ax = plt.subplots(1,3,figsize=(10,4))\n",
    "for i in range(3):\n",
    "    ax[i].imshow(X.iloc[i].values.reshape(8,8))\n",
    "    ax[i].set_title(f\"This is digit {y[i]}.\")\n",
    "plt.suptitle(\"First three images.\")\n",
    "plt.show()"
   ]
  },
  {
   "cell_type": "markdown",
   "metadata": {},
   "source": [
    "Split data into train and test, let test size be 30% of the dataset and fix random state to 42:"
   ]
  },
  {
   "cell_type": "code",
   "execution_count": 39,
   "metadata": {
    "ExecuteTime": {
     "end_time": "2022-04-10T16:14:27.439745Z",
     "start_time": "2022-04-10T16:14:27.425782Z"
    }
   },
   "outputs": [],
   "source": [
    "X_train, X_val, y_train, y_val = train_test_split(X, y, test_size=0.3, random_state=42)"
   ]
  },
  {
   "cell_type": "code",
   "execution_count": 40,
   "metadata": {
    "ExecuteTime": {
     "end_time": "2022-04-10T16:14:27.597379Z",
     "start_time": "2022-04-10T16:14:27.579428Z"
    }
   },
   "outputs": [],
   "source": [
    "assert y_val.shape[0] == 162\n",
    "assert y_val.sum() == 169"
   ]
  },
  {
   "cell_type": "markdown",
   "metadata": {},
   "source": [
    "Fit a RandomForestClassifier with max_depth=13 and evaluate it's performance:"
   ]
  },
  {
   "cell_type": "code",
   "execution_count": 41,
   "metadata": {
    "ExecuteTime": {
     "end_time": "2022-04-10T16:14:28.070888Z",
     "start_time": "2022-04-10T16:14:27.907038Z"
    }
   },
   "outputs": [
    {
     "name": "stdout",
     "output_type": "stream",
     "text": [
      "0.9938271604938271\n"
     ]
    }
   ],
   "source": [
    "clf = RandomForestClassifier(max_depth=13)\n",
    "\n",
    "clf.fit(X_train, y_train)\n",
    "\n",
    "acc = accuracy_score(y_val, clf.predict(X_val))\n",
    "print(acc)"
   ]
  },
  {
   "cell_type": "code",
   "execution_count": 42,
   "metadata": {
    "ExecuteTime": {
     "end_time": "2022-04-10T16:14:28.101806Z",
     "start_time": "2022-04-10T16:14:28.083854Z"
    }
   },
   "outputs": [],
   "source": [
    "assert acc > 0.98"
   ]
  },
  {
   "cell_type": "markdown",
   "metadata": {},
   "source": [
    "Now we will use Boruta to find redundand pixels. If the package is not installed in your system, uncomment and run the following cell."
   ]
  },
  {
   "cell_type": "code",
   "execution_count": 43,
   "metadata": {
    "ExecuteTime": {
     "end_time": "2022-04-10T16:14:28.477349Z",
     "start_time": "2022-04-10T16:14:28.462210Z"
    }
   },
   "outputs": [],
   "source": [
    "#! pip install boruta"
   ]
  },
  {
   "cell_type": "code",
   "execution_count": 44,
   "metadata": {
    "ExecuteTime": {
     "end_time": "2022-04-10T16:14:36.729921Z",
     "start_time": "2022-04-10T16:14:28.622273Z"
    }
   },
   "outputs": [
    {
     "data": {
      "text/plain": [
       "BorutaPy(estimator=RandomForestClassifier(max_depth=13, n_estimators=62,\n",
       "                                          random_state=RandomState(MT19937) at 0x27395291740),\n",
       "         n_estimators='auto',\n",
       "         random_state=RandomState(MT19937) at 0x27395291740)"
      ]
     },
     "execution_count": 44,
     "metadata": {},
     "output_type": "execute_result"
    }
   ],
   "source": [
    "from boruta import BorutaPy\n",
    "\n",
    "feat_selector = BorutaPy(RandomForestClassifier(max_depth=13), \n",
    "                         n_estimators='auto', \n",
    "                         verbose=0, \n",
    "                         max_iter=100,\n",
    "                         random_state=42)\n",
    "\n",
    "# your code here: do run the boruta\n",
    "feat_selector.fit(np.array(X_train), np.array(y_train))"
   ]
  },
  {
   "cell_type": "markdown",
   "metadata": {},
   "source": [
    "Let us print redundant pixels as a mask. Does the result looks similar to mine (or to Among us chracters)? "
   ]
  },
  {
   "cell_type": "code",
   "execution_count": 45,
   "metadata": {
    "ExecuteTime": {
     "end_time": "2022-04-10T16:14:36.872497Z",
     "start_time": "2022-04-10T16:14:36.732871Z"
    }
   },
   "outputs": [
    {
     "data": {
      "image/png": "[encoded data removed]",
      "text/plain": [
       "<Figure size 640x480 with 1 Axes>"
      ]
     },
     "metadata": {},
     "output_type": "display_data"
    }
   ],
   "source": [
    "mask = np.array(feat_selector.support_).reshape(8,8)\n",
    "plt.imshow(mask);"
   ]
  },
  {
   "cell_type": "markdown",
   "metadata": {},
   "source": [
    "At the end let us redo  classification but only with selected features"
   ]
  },
  {
   "cell_type": "code",
   "execution_count": 46,
   "metadata": {
    "ExecuteTime": {
     "end_time": "2022-04-10T16:14:37.032112Z",
     "start_time": "2022-04-10T16:14:36.874493Z"
    }
   },
   "outputs": [
    {
     "name": "stdout",
     "output_type": "stream",
     "text": [
      "0.9938271604938271\n"
     ]
    }
   ],
   "source": [
    "clf = RandomForestClassifier(max_depth=13, random_state=42)\n",
    "\n",
    "clf.fit(feat_selector.transform(np.array(X_train)), y_train)\n",
    "\n",
    "acc = accuracy_score(y_val, clf.predict(feat_selector.transform(np.array(X_val))))\n",
    "print(acc)"
   ]
  },
  {
   "cell_type": "code",
   "execution_count": 47,
   "metadata": {
    "ExecuteTime": {
     "end_time": "2022-04-10T16:14:37.047059Z",
     "start_time": "2022-04-10T16:14:37.034066Z"
    }
   },
   "outputs": [],
   "source": [
    "assert acc > 0.99"
   ]
  },
  {
   "cell_type": "markdown",
   "metadata": {},
   "source": [
    "# Materials & References"
   ]
  },
  {
   "cell_type": "markdown",
   "metadata": {},
   "source": [
    "1. General article about feature engineering and selection (main reference):\n",
    "https://github.com/Yorko/mlcourse.ai/blob/master/jupyter_english/topic06_features_regression/topic6_feature_engineering_feature_selection.ipynb\n",
    "\n",
    "2. Feature engineering/preprocessing, using scikit-learn API (great code examples, but really brief explanation):    \n",
    "https://scikit-learn.org/stable/modules/preprocessing\n",
    "\n",
    "3. Feature scaling/normalization:     \n",
    "https://towardsdatascience.com/all-about-feature-scaling-bcc0ad75cb35\n",
    "\n",
    "4. Log Transform/power transform:    \n",
    "https://medium.com/@kyawsawhtoon/log-transformation-purpose-and-interpretation-9444b4b049c9\n",
    "\n",
    "6. Missing values preprocessing using scikit-learn API (great code examples, great explanation):    \n",
    "https://scikit-learn.org/stable/modules/impute.html\n",
    "\n",
    "7. Feature selection scikit-learn API (great code examples, great explanation):   \n",
    "https://scikit-learn.org/stable/modules/feature_selection.html\n",
    "\n",
    "8. Melbourne housing dataset source:    \n",
    "https://www.kaggle.com/anthonypino/melbourne-housing-market"
   ]
  }
 ],
 "metadata": {
  "kernelspec": {
   "display_name": "Python 3 (ipykernel)",
   "language": "python",
   "name": "python3"
  },
  "language_info": {
   "codemirror_mode": {
    "name": "ipython",
    "version": 3
   },
   "file_extension": ".py",
   "mimetype": "text/x-python",
   "name": "python",
   "nbconvert_exporter": "python",
   "pygments_lexer": "ipython3",
   "version": "3.8.9"
  },
  "toc": {
   "base_numbering": "1",
   "nav_menu": {},
   "number_sections": true,
   "sideBar": true,
   "skip_h1_title": false,
   "title_cell": "Table of Contents",
   "title_sidebar": "Contents",
   "toc_cell": false,
   "toc_position": {
    "height": "calc(100% - 180px)",
    "left": "10px",
    "top": "150px",
    "width": "165px"
   },
   "toc_section_display": true,
   "toc_window_display": true
  }
 },
 "nbformat": 4,
 "nbformat_minor": 4
}
