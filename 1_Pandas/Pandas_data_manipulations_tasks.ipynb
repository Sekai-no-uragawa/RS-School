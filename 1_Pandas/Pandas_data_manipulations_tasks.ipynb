{
 "cells": [
  {
   "cell_type": "markdown",
   "id": "6d6010da",
   "metadata": {},
   "source": [
    "# How to complete this assignment\n",
    "First, download [this Kaggle dataset](https://www.kaggle.com/hugomathien/soccer) and extract *sqlite* database. You may need to register at https://www.kaggle.com/ beforehand. Then complete 15 graded tasks below, the score is given in brackets. Finally submit the resulting `.ipynb` file to rs-app Auto-test.\n",
    "\n",
    "- Do not delete or rename the variables given before the inscription `#your code here`, they are needed for the correct verification.\n",
    "- Do not change the code in the last Notebook cell, it is required for the server check.\n",
    "- Your Notebook must run completely without errors to be graded! Please check everything before submission by going *Cell -> Run All*"
   ]
  },
  {
   "cell_type": "markdown",
   "id": "0dbd5f9a",
   "metadata": {},
   "source": [
    "## Some important notes\n",
    "- If you need to **calculate the number of \"something\"** that means we expect you to assign an Integer to the given variable\n",
    "- If you need to **make a list of \"something\"** we expect you to assign a Python list with appropriate values to the given variable\n",
    "- If you need to find a **specifiс player, day of the week, team, etc.** we expect you to assign a String with the full name of the entity to the given variable (`player_name`, day of week full name, `team_name`, etc.)"
   ]
  },
  {
   "cell_type": "code",
   "execution_count": 1,
   "id": "f52b1bac",
   "metadata": {},
   "outputs": [],
   "source": [
    "import sqlite3\n",
    "import pandas as pd\n",
    "import os\n",
    "\n",
    "pd.set_option('display.max_column', None)"
   ]
  },
  {
   "cell_type": "code",
   "execution_count": 2,
   "id": "8ebe6afd",
   "metadata": {},
   "outputs": [],
   "source": [
    "# Leave that code unchanged, it is required for the server check!\n",
    "db = sqlite3.connect(os.environ.get(\"DB_PATH\") or 'database.sqlite')"
   ]
  },
  {
   "cell_type": "code",
   "execution_count": 3,
   "id": "9860d0d0",
   "metadata": {},
   "outputs": [],
   "source": [
    "# You may load the data from SQL table directly to the Pandas dataframe as\n",
    "player_data = pd.read_sql(\"SELECT * FROM Player;\", db)"
   ]
  },
  {
   "cell_type": "code",
   "execution_count": 4,
   "id": "e5d2cf14",
   "metadata": {},
   "outputs": [
    {
     "data": {
      "text/html": [
       "<div>\n",
       "<style scoped>\n",
       "    .dataframe tbody tr th:only-of-type {\n",
       "        vertical-align: middle;\n",
       "    }\n",
       "\n",
       "    .dataframe tbody tr th {\n",
       "        vertical-align: top;\n",
       "    }\n",
       "\n",
       "    .dataframe thead th {\n",
       "        text-align: right;\n",
       "    }\n",
       "</style>\n",
       "<table border=\"1\" class=\"dataframe\">\n",
       "  <thead>\n",
       "    <tr style=\"text-align: right;\">\n",
       "      <th></th>\n",
       "      <th>id</th>\n",
       "      <th>player_api_id</th>\n",
       "      <th>player_name</th>\n",
       "      <th>player_fifa_api_id</th>\n",
       "      <th>birthday</th>\n",
       "      <th>height</th>\n",
       "      <th>weight</th>\n",
       "    </tr>\n",
       "  </thead>\n",
       "  <tbody>\n",
       "    <tr>\n",
       "      <th>1</th>\n",
       "      <td>2</td>\n",
       "      <td>155782</td>\n",
       "      <td>Aaron Cresswell</td>\n",
       "      <td>189615</td>\n",
       "      <td>1989-12-15 00:00:00</td>\n",
       "      <td>170.18</td>\n",
       "      <td>146</td>\n",
       "    </tr>\n",
       "    <tr>\n",
       "      <th>2</th>\n",
       "      <td>3</td>\n",
       "      <td>162549</td>\n",
       "      <td>Aaron Doran</td>\n",
       "      <td>186170</td>\n",
       "      <td>1991-05-13 00:00:00</td>\n",
       "      <td>170.18</td>\n",
       "      <td>163</td>\n",
       "    </tr>\n",
       "    <tr>\n",
       "      <th>3</th>\n",
       "      <td>4</td>\n",
       "      <td>30572</td>\n",
       "      <td>Aaron Galindo</td>\n",
       "      <td>140161</td>\n",
       "      <td>1982-05-08 00:00:00</td>\n",
       "      <td>182.88</td>\n",
       "      <td>198</td>\n",
       "    </tr>\n",
       "  </tbody>\n",
       "</table>\n",
       "</div>"
      ],
      "text/plain": [
       "   id  player_api_id      player_name  player_fifa_api_id  \\\n",
       "1   2         155782  Aaron Cresswell              189615   \n",
       "2   3         162549      Aaron Doran              186170   \n",
       "3   4          30572    Aaron Galindo              140161   \n",
       "\n",
       "              birthday  height  weight  \n",
       "1  1989-12-15 00:00:00  170.18     146  \n",
       "2  1991-05-13 00:00:00  170.18     163  \n",
       "3  1982-05-08 00:00:00  182.88     198  "
      ]
     },
     "execution_count": 4,
     "metadata": {},
     "output_type": "execute_result"
    }
   ],
   "source": [
    "player_data[1:4]"
   ]
  },
  {
   "cell_type": "markdown",
   "id": "f8b23f3a",
   "metadata": {},
   "source": [
    "**Task 1 (0.25 point).** Calculate the number of players with a height between 180 and 190 inclusive"
   ]
  },
  {
   "cell_type": "code",
   "execution_count": 5,
   "id": "7cd6f780",
   "metadata": {},
   "outputs": [
    {
     "data": {
      "text/plain": [
       "5925"
      ]
     },
     "execution_count": 5,
     "metadata": {},
     "output_type": "execute_result"
    }
   ],
   "source": [
    "players_180_190 = len(player_data[(player_data['height'] <= 190) & (player_data['height'] >= 180)])\n",
    "players_180_190"
   ]
  },
  {
   "cell_type": "markdown",
   "id": "5a39f3bc",
   "metadata": {},
   "source": [
    "**Task 2 (0.25 point).** Calculate the number of players born in 1980. <br>\n",
    "**Hint:** you may want to cast your 'birthday' column to DateTime type by [pandas.to_datetime](https://pandas.pydata.org/docs/reference/api/pandas.to_datetime.html)"
   ]
  },
  {
   "cell_type": "code",
   "execution_count": 6,
   "id": "ff21f7a2",
   "metadata": {},
   "outputs": [
    {
     "data": {
      "text/plain": [
       "434"
      ]
     },
     "execution_count": 6,
     "metadata": {},
     "output_type": "execute_result"
    }
   ],
   "source": [
    "player_data['birthday'] = pd.to_datetime(player_data['birthday'], yearfirst=True, format=\"%Y-%m-%d %X\", )\n",
    "\n",
    "players_1980 = len(player_data[player_data['birthday'].dt.year == 1980])\n",
    "players_1980"
   ]
  },
  {
   "cell_type": "markdown",
   "id": "70d1dea0",
   "metadata": {},
   "source": [
    "**Task 3 (0.25 point).** Make a list of the top 10 players with the highest weight sorted in descending order. If there are several players with the same weight put them in the lexicographic order by name."
   ]
  },
  {
   "cell_type": "code",
   "execution_count": 7,
   "id": "b0dbdaf5",
   "metadata": {},
   "outputs": [
    {
     "data": {
      "text/plain": [
       "['Kristof van Hout',\n",
       " 'Tim Wiese',\n",
       " 'Jeroen Verhoeven',\n",
       " 'Ishmael Miller',\n",
       " 'Cassio',\n",
       " 'Christopher Samba',\n",
       " 'Lars Unnerstall',\n",
       " 'Marcus Hahnemann',\n",
       " 'Abdoulaye Faye',\n",
       " 'Enoch Showunmi']"
      ]
     },
     "execution_count": 7,
     "metadata": {},
     "output_type": "execute_result"
    }
   ],
   "source": [
    "highest_players = player_data.sort_values(by=['weight', 'player_name'], ascending=(False, True))\\\n",
    "                                            .head(10)['player_name'].values.tolist()\n",
    "highest_players"
   ]
  },
  {
   "cell_type": "markdown",
   "id": "ff30607f",
   "metadata": {},
   "source": [
    "**Task 4 (0.5 point).** Make a list of tuples containing years along with the number of players born in that year from 1980 up to 1990. <br>\n",
    "**Structure example**: [(1980, 123), (1981, 140) ..., (1990, 83)] -> There were born 123 players in 1980, there were born 140 players in 1981 and etc."
   ]
  },
  {
   "cell_type": "code",
   "execution_count": 11,
   "id": "9b609f1c",
   "metadata": {},
   "outputs": [],
   "source": [
    "years_born_players = [(curent_year, len(player_data[player_data['birthday'].dt.year == curent_year])) \\\n",
    "                      for curent_year in range(1980, 1991)]\n"
   ]
  },
  {
   "cell_type": "code",
   "execution_count": 12,
   "id": "1e98dfb8",
   "metadata": {
    "scrolled": true
   },
   "outputs": [
    {
     "data": {
      "text/plain": [
       "[(1980, 434),\n",
       " (1981, 475),\n",
       " (1982, 487),\n",
       " (1983, 541),\n",
       " (1984, 607),\n",
       " (1985, 593),\n",
       " (1986, 710),\n",
       " (1987, 722),\n",
       " (1988, 802),\n",
       " (1989, 723),\n",
       " (1990, 696)]"
      ]
     },
     "execution_count": 12,
     "metadata": {},
     "output_type": "execute_result"
    }
   ],
   "source": [
    "years_born_players"
   ]
  },
  {
   "cell_type": "markdown",
   "id": "33cbd931",
   "metadata": {},
   "source": [
    "**Task 5 (0.5 point).** Calculate the mean and the standard deviation of the players' **height** with the name **Adriano**. <br>\n",
    "**Note:** Name is represented by the first part of `player_name`."
   ]
  },
  {
   "cell_type": "code",
   "execution_count": 13,
   "id": "3ec75909",
   "metadata": {},
   "outputs": [
    {
     "data": {
      "text/html": [
       "<div>\n",
       "<style scoped>\n",
       "    .dataframe tbody tr th:only-of-type {\n",
       "        vertical-align: middle;\n",
       "    }\n",
       "\n",
       "    .dataframe tbody tr th {\n",
       "        vertical-align: top;\n",
       "    }\n",
       "\n",
       "    .dataframe thead th {\n",
       "        text-align: right;\n",
       "    }\n",
       "</style>\n",
       "<table border=\"1\" class=\"dataframe\">\n",
       "  <thead>\n",
       "    <tr style=\"text-align: right;\">\n",
       "      <th></th>\n",
       "      <th>id</th>\n",
       "      <th>player_api_id</th>\n",
       "      <th>player_name</th>\n",
       "      <th>player_fifa_api_id</th>\n",
       "      <th>birthday</th>\n",
       "      <th>height</th>\n",
       "      <th>weight</th>\n",
       "    </tr>\n",
       "  </thead>\n",
       "  <tbody>\n",
       "    <tr>\n",
       "      <th>184</th>\n",
       "      <td>185</td>\n",
       "      <td>167648</td>\n",
       "      <td>Adriano De Pierro</td>\n",
       "      <td>193351</td>\n",
       "      <td>1991-01-11</td>\n",
       "      <td>185.42</td>\n",
       "      <td>170</td>\n",
       "    </tr>\n",
       "    <tr>\n",
       "      <th>185</th>\n",
       "      <td>186</td>\n",
       "      <td>280969</td>\n",
       "      <td>Adriano Facchini</td>\n",
       "      <td>205122</td>\n",
       "      <td>1983-03-12</td>\n",
       "      <td>187.96</td>\n",
       "      <td>172</td>\n",
       "    </tr>\n",
       "    <tr>\n",
       "      <th>186</th>\n",
       "      <td>187</td>\n",
       "      <td>39190</td>\n",
       "      <td>Adriano Ferreira Pinto</td>\n",
       "      <td>163653</td>\n",
       "      <td>1979-12-10</td>\n",
       "      <td>177.80</td>\n",
       "      <td>179</td>\n",
       "    </tr>\n",
       "    <tr>\n",
       "      <th>187</th>\n",
       "      <td>188</td>\n",
       "      <td>172172</td>\n",
       "      <td>Adriano Jose de Lara</td>\n",
       "      <td>193874</td>\n",
       "      <td>1987-12-09</td>\n",
       "      <td>185.42</td>\n",
       "      <td>190</td>\n",
       "    </tr>\n",
       "    <tr>\n",
       "      <th>188</th>\n",
       "      <td>189</td>\n",
       "      <td>39199</td>\n",
       "      <td>Adriano Pereira da Silva</td>\n",
       "      <td>135530</td>\n",
       "      <td>1982-04-03</td>\n",
       "      <td>180.34</td>\n",
       "      <td>165</td>\n",
       "    </tr>\n",
       "    <tr>\n",
       "      <th>189</th>\n",
       "      <td>190</td>\n",
       "      <td>38122</td>\n",
       "      <td>Adriano Russo</td>\n",
       "      <td>137419</td>\n",
       "      <td>1987-06-06</td>\n",
       "      <td>185.42</td>\n",
       "      <td>159</td>\n",
       "    </tr>\n",
       "    <tr>\n",
       "      <th>190</th>\n",
       "      <td>191</td>\n",
       "      <td>121923</td>\n",
       "      <td>Adriano</td>\n",
       "      <td>183243</td>\n",
       "      <td>1982-01-21</td>\n",
       "      <td>175.26</td>\n",
       "      <td>168</td>\n",
       "    </tr>\n",
       "    <tr>\n",
       "      <th>191</th>\n",
       "      <td>192</td>\n",
       "      <td>30690</td>\n",
       "      <td>Adriano</td>\n",
       "      <td>106019</td>\n",
       "      <td>1982-02-17</td>\n",
       "      <td>187.96</td>\n",
       "      <td>194</td>\n",
       "    </tr>\n",
       "    <tr>\n",
       "      <th>192</th>\n",
       "      <td>193</td>\n",
       "      <td>33992</td>\n",
       "      <td>Adriano</td>\n",
       "      <td>164082</td>\n",
       "      <td>1984-10-26</td>\n",
       "      <td>172.72</td>\n",
       "      <td>161</td>\n",
       "    </tr>\n",
       "    <tr>\n",
       "      <th>193</th>\n",
       "      <td>194</td>\n",
       "      <td>41109</td>\n",
       "      <td>Adriano</td>\n",
       "      <td>152769</td>\n",
       "      <td>1980-01-29</td>\n",
       "      <td>182.88</td>\n",
       "      <td>176</td>\n",
       "    </tr>\n",
       "  </tbody>\n",
       "</table>\n",
       "</div>"
      ],
      "text/plain": [
       "      id  player_api_id               player_name  player_fifa_api_id  \\\n",
       "184  185         167648         Adriano De Pierro              193351   \n",
       "185  186         280969          Adriano Facchini              205122   \n",
       "186  187          39190    Adriano Ferreira Pinto              163653   \n",
       "187  188         172172      Adriano Jose de Lara              193874   \n",
       "188  189          39199  Adriano Pereira da Silva              135530   \n",
       "189  190          38122             Adriano Russo              137419   \n",
       "190  191         121923                   Adriano              183243   \n",
       "191  192          30690                   Adriano              106019   \n",
       "192  193          33992                   Adriano              164082   \n",
       "193  194          41109                   Adriano              152769   \n",
       "\n",
       "      birthday  height  weight  \n",
       "184 1991-01-11  185.42     170  \n",
       "185 1983-03-12  187.96     172  \n",
       "186 1979-12-10  177.80     179  \n",
       "187 1987-12-09  185.42     190  \n",
       "188 1982-04-03  180.34     165  \n",
       "189 1987-06-06  185.42     159  \n",
       "190 1982-01-21  175.26     168  \n",
       "191 1982-02-17  187.96     194  \n",
       "192 1984-10-26  172.72     161  \n",
       "193 1980-01-29  182.88     176  "
      ]
     },
     "execution_count": 13,
     "metadata": {},
     "output_type": "execute_result"
    }
   ],
   "source": [
    "player_data[player_data['player_name'].str.contains(r'^\\bAdriano')]"
   ]
  },
  {
   "cell_type": "code",
   "execution_count": 14,
   "id": "ecdf063d",
   "metadata": {},
   "outputs": [],
   "source": [
    "adriano_mean, adriano_std = (player_data[player_data['player_name'].str.contains(r'^\\bAdriano')]['height'].mean(), \\\n",
    "                             player_data[player_data['player_name'].str.contains(r'^\\bAdriano')]['height'].std() )"
   ]
  },
  {
   "cell_type": "code",
   "execution_count": 15,
   "id": "cc164c68",
   "metadata": {},
   "outputs": [
    {
     "data": {
      "text/plain": [
       "(182.118, 5.361479480723788)"
      ]
     },
     "execution_count": 15,
     "metadata": {},
     "output_type": "execute_result"
    }
   ],
   "source": [
    "adriano_mean, adriano_std"
   ]
  },
  {
   "cell_type": "markdown",
   "id": "8a361dfd",
   "metadata": {},
   "source": [
    "**Task 6 (0.75 point).** How many players were born on each day of the week? Find the day of the week with the minimum number of players born."
   ]
  },
  {
   "cell_type": "code",
   "execution_count": 16,
   "id": "c140be4f",
   "metadata": {},
   "outputs": [
    {
     "data": {
      "text/plain": [
       "'Sunday'"
      ]
     },
     "execution_count": 16,
     "metadata": {},
     "output_type": "execute_result"
    }
   ],
   "source": [
    "d = {0: 'Monday',\n",
    "     1: 'Tuesday',\n",
    "     2: 'Wednesday',\n",
    "     3: 'Thursday',\n",
    "     4: 'Friday',\n",
    "     5: 'Saturday',\n",
    "     6: 'Sunday',}\n",
    "dow_with_min_players_born = d[min([(num_of_the_day, len(player_data[player_data['birthday'].dt.dayofweek == num_of_the_day])) \\\n",
    "                      for num_of_the_day in range(0, 7)], key=lambda x: x[1])[0]]\n",
    "\n",
    "dow_with_min_players_born"
   ]
  },
  {
   "cell_type": "markdown",
   "id": "dc7428be",
   "metadata": {},
   "source": [
    "**Task 7 (0.75 point).** Find a league with the most matches in total. If there are several leagues with the same amount of matches, take the first in the lexical order."
   ]
  },
  {
   "cell_type": "code",
   "execution_count": 17,
   "id": "ff3113ac",
   "metadata": {},
   "outputs": [],
   "source": [
    "league_data = pd.read_sql(\"SELECT * FROM League\", db)\n",
    "mathes_data = pd.read_sql(\"SELECT * FROM Match\", db)\n",
    "# Вариант 1\n",
    "league_most_matches = league_data[league_data['id'] == max([(num_of_league_id, len(mathes_data[mathes_data['league_id'] == num_of_league_id])) \\\n",
    "                      for num_of_league_id in league_data['id']], key=lambda x: (x[1], -x[0]))[0]]['name'].values.tolist()[0]\n"
   ]
  },
  {
   "cell_type": "code",
   "execution_count": 18,
   "id": "cce7d2ce",
   "metadata": {},
   "outputs": [],
   "source": [
    "# Вариант 2"
   ]
  },
  {
   "cell_type": "code",
   "execution_count": 72,
   "id": "4986a787",
   "metadata": {},
   "outputs": [],
   "source": [
    "indexes = mathes_data['league_id'].value_counts().head().index.to_list()"
   ]
  },
  {
   "cell_type": "code",
   "execution_count": 73,
   "id": "18f3db1a",
   "metadata": {},
   "outputs": [
    {
     "data": {
      "text/plain": [
       "1729     380\n",
       "4769     380\n",
       "10257    380\n",
       "21518    380\n",
       "7809     306\n",
       "13274    306\n",
       "17642    306\n",
       "1        240\n",
       "15722    240\n",
       "19694    228\n",
       "24558    180\n",
       "Name: league_id, dtype: int64"
      ]
     },
     "execution_count": 73,
     "metadata": {},
     "output_type": "execute_result"
    }
   ],
   "source": [
    "league_data"
   ]
  },
  {
   "cell_type": "code",
   "execution_count": 20,
   "id": "c22de453",
   "metadata": {},
   "outputs": [
    {
     "data": {
      "text/plain": [
       "'England Premier League'"
      ]
     },
     "execution_count": 20,
     "metadata": {},
     "output_type": "execute_result"
    }
   ],
   "source": [
    "league_most_matches"
   ]
  },
  {
   "cell_type": "markdown",
   "id": "97199b7d",
   "metadata": {},
   "source": [
    "**Task 8 (1.25 point).** Find a player who participated in the largest number of matches during the whole match history. Assign a `player_name` to the given variable"
   ]
  },
  {
   "cell_type": "code",
   "execution_count": 21,
   "id": "ec31bc69",
   "metadata": {},
   "outputs": [],
   "source": [
    "max_matches_player = max_matches_player = player_data[player_data['player_api_id'] == max([(player_id, len(mathes_data[mathes_data[f'{x}'] == player_id])) \\\n",
    "     for x in ['home_player_'+str(num) for num in range(1,12)] \\\n",
    "     for player_id in player_data['player_api_id'] ], key=lambda k: k[1])[0]]['player_name'].values.tolist()[0]\n"
   ]
  },
  {
   "cell_type": "code",
   "execution_count": 22,
   "id": "1f5650d4",
   "metadata": {
    "scrolled": true
   },
   "outputs": [
    {
     "data": {
      "text/plain": [
       "'Steve Mandanda'"
      ]
     },
     "execution_count": 22,
     "metadata": {},
     "output_type": "execute_result"
    }
   ],
   "source": [
    "max_matches_player"
   ]
  },
  {
   "cell_type": "code",
   "execution_count": 23,
   "id": "6188a701",
   "metadata": {
    "scrolled": true
   },
   "outputs": [
    {
     "data": {
      "text/plain": [
       "31293.0     149\n",
       "41097.0     145\n",
       "26295.0     142\n",
       "42422.0     141\n",
       "31465.0     141\n",
       "           ... \n",
       "176682.0      1\n",
       "41458.0       1\n",
       "655544.0      1\n",
       "150464.0      1\n",
       "41948.0       1\n",
       "Name: home_player_1, Length: 906, dtype: int64"
      ]
     },
     "execution_count": 23,
     "metadata": {},
     "output_type": "execute_result"
    }
   ],
   "source": [
    "mathes_data['home_player_1'].value_counts()"
   ]
  },
  {
   "cell_type": "code",
   "execution_count": 24,
   "id": "8c29ee5e",
   "metadata": {},
   "outputs": [
    {
     "data": {
      "text/html": [
       "<div>\n",
       "<style scoped>\n",
       "    .dataframe tbody tr th:only-of-type {\n",
       "        vertical-align: middle;\n",
       "    }\n",
       "\n",
       "    .dataframe tbody tr th {\n",
       "        vertical-align: top;\n",
       "    }\n",
       "\n",
       "    .dataframe thead th {\n",
       "        text-align: right;\n",
       "    }\n",
       "</style>\n",
       "<table border=\"1\" class=\"dataframe\">\n",
       "  <thead>\n",
       "    <tr style=\"text-align: right;\">\n",
       "      <th></th>\n",
       "      <th>id</th>\n",
       "      <th>player_api_id</th>\n",
       "      <th>player_name</th>\n",
       "      <th>player_fifa_api_id</th>\n",
       "      <th>birthday</th>\n",
       "      <th>height</th>\n",
       "      <th>weight</th>\n",
       "    </tr>\n",
       "  </thead>\n",
       "  <tbody>\n",
       "    <tr>\n",
       "      <th>9993</th>\n",
       "      <td>10009</td>\n",
       "      <td>31293</td>\n",
       "      <td>Steve Mandanda</td>\n",
       "      <td>163705</td>\n",
       "      <td>1985-03-28</td>\n",
       "      <td>185.42</td>\n",
       "      <td>181</td>\n",
       "    </tr>\n",
       "  </tbody>\n",
       "</table>\n",
       "</div>"
      ],
      "text/plain": [
       "         id  player_api_id     player_name  player_fifa_api_id   birthday  \\\n",
       "9993  10009          31293  Steve Mandanda              163705 1985-03-28   \n",
       "\n",
       "      height  weight  \n",
       "9993  185.42     181  "
      ]
     },
     "execution_count": 24,
     "metadata": {},
     "output_type": "execute_result"
    }
   ],
   "source": [
    "player_data[player_data['player_api_id'] == 31293]"
   ]
  },
  {
   "cell_type": "markdown",
   "id": "dbc68bfe",
   "metadata": {},
   "source": [
    "**Task 9 (1.5 point).** List top-5 tuples of most correlated **player's characteristics** in the descending order of the absolute [Pearson's coefficient](https://en.wikipedia.org/wiki/Pearson_correlation_coefficient) value.\n",
    "\n",
    "**Note 1:** Players characteristics are all the columns in `Player_Attributes` table except `[id, player_fifa_api_id, player_api_id, date, preferred_foot, attacking_work_rate, defensive_work_rate]`). <br>\n",
    "**Note 2:** Exclude duplicated pairs from the list. E.g. ('gk_handling', 'gk_reflexes') and ('gk_reflexes', 'gk_handling') are duplicates, leave just one of them in the resulting list.\n",
    "\n",
    "**Hint:** You may use [dataframe.corr()](https://pandas.pydata.org/docs/reference/api/pandas.DataFrame.corr.html) for calculating pairwise Pearson correlation."
   ]
  },
  {
   "cell_type": "code",
   "execution_count": 25,
   "id": "8891a0ac",
   "metadata": {},
   "outputs": [],
   "source": [
    "player_attrib = pd.read_sql(\"SELECT * FROM Player_Attributes\", db)"
   ]
  },
  {
   "cell_type": "code",
   "execution_count": 26,
   "id": "d3ee8bc7",
   "metadata": {},
   "outputs": [],
   "source": [
    "for i in ['id', 'player_fifa_api_id', 'player_api_id', 'date', 'preferred_foot', 'attacking_work_rate', 'defensive_work_rate']:\n",
    "    player_attrib.pop(i)"
   ]
  },
  {
   "cell_type": "code",
   "execution_count": 27,
   "id": "6826fdc3",
   "metadata": {
    "scrolled": true
   },
   "outputs": [],
   "source": [
    "player_attrib_corr = player_attrib.corr()\n"
   ]
  },
  {
   "cell_type": "code",
   "execution_count": 28,
   "id": "8c7b17bc",
   "metadata": {},
   "outputs": [],
   "source": [
    "from itertools import combinations as comb\n",
    "\n",
    "\n",
    "top_correlated_features = list(comb([col for col in player_attrib.columns], 2))\n",
    "top_correlated_features.sort(key=lambda x: abs(player_attrib_corr[x[0]][x[1]]), reverse=True)\n",
    "top_correlated_features = top_correlated_features[0:5]"
   ]
  },
  {
   "cell_type": "code",
   "execution_count": 68,
   "id": "2e6c1226",
   "metadata": {},
   "outputs": [
    {
     "data": {
      "text/plain": [
       "[('gk_positioning', 'gk_reflexes'),\n",
       " ('gk_handling', 'gk_reflexes'),\n",
       " ('gk_handling', 'gk_positioning'),\n",
       " ('standing_tackle', 'sliding_tackle'),\n",
       " ('marking', 'standing_tackle')]"
      ]
     },
     "execution_count": 68,
     "metadata": {},
     "output_type": "execute_result"
    }
   ],
   "source": [
    "top_correlated_features"
   ]
  },
  {
   "cell_type": "markdown",
   "id": "7d3d8fd3",
   "metadata": {},
   "source": [
    "**Task 10 (2 points).** Find top-5 most similar players to **Neymar** whose names are given. The similarity is measured as [Euclidean distance](https://en.wikipedia.org/wiki/Euclidean_distance) between vectors of players' characteristics (described in the task above). Put their names in a vector in ascending order by Euclidean distance and sorted by `player_name` if the distance is the same<br>\n",
    "**Note 1:** There are many records for some players in the `Player_Attributes` table. You need to take the freshest data (characteristics with the most recent `date`). <br>\n",
    "**Note 2:** Use pure values of the characteristics even if you are aware of such preprocessing technics as normalization. <br>\n",
    "**Note 3:** Please avoid using any built-in methods for calculating the Euclidean distance between vectors, think about implementing your own."
   ]
  },
  {
   "cell_type": "code",
   "execution_count": 29,
   "id": "fc11b6b0",
   "metadata": {},
   "outputs": [],
   "source": [
    "player_attrib = pd.read_sql(\"SELECT * FROM Player_Attributes\", db)\n"
   ]
  },
  {
   "cell_type": "code",
   "execution_count": 30,
   "id": "39db7c74",
   "metadata": {},
   "outputs": [],
   "source": [
    "for i in ['id', 'player_fifa_api_id', 'preferred_foot', 'attacking_work_rate', 'defensive_work_rate']:\n",
    "    player_attrib.pop(i)"
   ]
  },
  {
   "cell_type": "code",
   "execution_count": 31,
   "id": "b338ce42",
   "metadata": {},
   "outputs": [],
   "source": [
    "player_data = pd.read_sql(\"SELECT * FROM Player\", db)"
   ]
  },
  {
   "cell_type": "code",
   "execution_count": 32,
   "id": "2fa65eda",
   "metadata": {},
   "outputs": [],
   "source": [
    "neymar_vector = player_attrib[player_attrib['player_api_id'] == 19533].iloc[0][2:]"
   ]
  },
  {
   "cell_type": "code",
   "execution_count": 33,
   "id": "d56571e0",
   "metadata": {},
   "outputs": [],
   "source": [
    "vectors = [(id, player_attrib[player_attrib['player_api_id'] == id].iloc[0][2:]) for id in player_data['player_api_id']]"
   ]
  },
  {
   "cell_type": "code",
   "execution_count": 44,
   "id": "c193b000",
   "metadata": {},
   "outputs": [],
   "source": [
    "import numpy as np"
   ]
  },
  {
   "cell_type": "code",
   "execution_count": 45,
   "id": "3b5f35e0",
   "metadata": {
    "scrolled": true
   },
   "outputs": [],
   "source": [
    "list_of_dist = []\n",
    "for id, enother_one_player in vectors:\n",
    "    #distanse\n",
    "    dist = np.sqrt(np.sum([(a-b)*(a-b) for a, b in zip(neymar_vector, enother_one_player)]))\n",
    "    list_of_dist.append((id, dist))\n",
    "\n"
   ]
  },
  {
   "cell_type": "code",
   "execution_count": 46,
   "id": "8ae7d021",
   "metadata": {},
   "outputs": [],
   "source": [
    "idx, values = zip(*list_of_dist)\n",
    "\n",
    "a = pd.Series(values, idx)"
   ]
  },
  {
   "cell_type": "code",
   "execution_count": 47,
   "id": "4caf9f56",
   "metadata": {},
   "outputs": [],
   "source": [
    "neymar_similarities = [player_data[player_data['player_api_id'] == id]['player_name'].values[0] for id in a.sort_values()[1:6].index]"
   ]
  },
  {
   "cell_type": "code",
   "execution_count": 48,
   "id": "cc62af36",
   "metadata": {},
   "outputs": [
    {
     "data": {
      "text/plain": [
       "['Paulo Dybala',\n",
       " 'Eden Hazard',\n",
       " 'Giovani dos Santos',\n",
       " 'Arjen Robben',\n",
       " 'Lionel Messi']"
      ]
     },
     "execution_count": 48,
     "metadata": {},
     "output_type": "execute_result"
    }
   ],
   "source": [
    "neymar_similarities"
   ]
  },
  {
   "cell_type": "markdown",
   "id": "a3a7f878",
   "metadata": {},
   "source": [
    "**Task 11 (1 point).** Calculate the number of home matches played by the **Borussia Dortmund** team in **Germany 1. Bundesliga** in season **2008/2009**"
   ]
  },
  {
   "cell_type": "code",
   "execution_count": 49,
   "id": "cfbcffa0",
   "metadata": {},
   "outputs": [],
   "source": [
    "borussia_dortmund_team_api_id = 9789\n",
    "germany_1_bundesliga_id = 7809"
   ]
  },
  {
   "cell_type": "code",
   "execution_count": 50,
   "id": "94f90a59",
   "metadata": {},
   "outputs": [],
   "source": [
    "mathes_data = pd.read_sql(\"SELECT * FROM Match\", db)"
   ]
  },
  {
   "cell_type": "code",
   "execution_count": 51,
   "id": "0f0a8eeb",
   "metadata": {},
   "outputs": [],
   "source": [
    "mathes_data_borussia = mathes_data[(mathes_data['league_id'] == germany_1_bundesliga_id) & \\\n",
    "                          (mathes_data['home_team_api_id'] == borussia_dortmund_team_api_id) & \\\n",
    "                          (mathes_data['season'] == \"2008/2009\")]"
   ]
  },
  {
   "cell_type": "code",
   "execution_count": 53,
   "id": "bdf5a267",
   "metadata": {},
   "outputs": [],
   "source": [
    "borussia_bundesliga_2008_2009_matches = len(mathes_data_borussia)"
   ]
  },
  {
   "cell_type": "code",
   "execution_count": 54,
   "id": "fed29e4f",
   "metadata": {},
   "outputs": [
    {
     "data": {
      "text/plain": [
       "17"
      ]
     },
     "execution_count": 54,
     "metadata": {},
     "output_type": "execute_result"
    }
   ],
   "source": [
    "borussia_bundesliga_2008_2009_matches"
   ]
  },
  {
   "cell_type": "markdown",
   "id": "69dca9a5",
   "metadata": {},
   "source": [
    "**Task 12 (1 point).** Find a team having the most matches (both home and away!) in the **Germany 1. Bundesliga** in **2008/2009** season. Return number of matches."
   ]
  },
  {
   "cell_type": "code",
   "execution_count": 55,
   "id": "53185ba7",
   "metadata": {},
   "outputs": [],
   "source": [
    "bundesliga_2008_2009_matches = mathes_data[(mathes_data['league_id'] == germany_1_bundesliga_id) & \\\n",
    "                                           (mathes_data['season'] == \"2008/2009\") ]"
   ]
  },
  {
   "cell_type": "code",
   "execution_count": 56,
   "id": "e50b8ad2",
   "metadata": {},
   "outputs": [],
   "source": [
    "team_data = pd.read_sql(\"SELECT * FROM Team\", db)"
   ]
  },
  {
   "cell_type": "code",
   "execution_count": 57,
   "id": "f8c72f20",
   "metadata": {},
   "outputs": [],
   "source": [
    "lst = []\n",
    "for i in team_data['team_api_id']:\n",
    "    lst.append(len(bundesliga_2008_2009_matches[(bundesliga_2008_2009_matches['home_team_api_id'] == i) | \\\n",
    "                                           (bundesliga_2008_2009_matches['away_team_api_id'] == i)]))\n",
    "                                                "
   ]
  },
  {
   "cell_type": "code",
   "execution_count": 58,
   "id": "9969ba5c",
   "metadata": {},
   "outputs": [],
   "source": [
    "team_most_matches_bundesliga_2008_2009 = max(lst)"
   ]
  },
  {
   "cell_type": "markdown",
   "id": "2f3c65aa",
   "metadata": {},
   "source": [
    "**Task 13 (1 point).** Count total number of **Arsenal** matches (both home and away!) in the **2015/2016** season which they have won. <br><br>\n",
    "**Note:** Winning a game means scoring **more** goals than an opponent."
   ]
  },
  {
   "cell_type": "code",
   "execution_count": 79,
   "id": "3ca9a2a3",
   "metadata": {},
   "outputs": [
    {
     "data": {
      "text/plain": [
       "3459"
      ]
     },
     "execution_count": 79,
     "metadata": {},
     "output_type": "execute_result"
    }
   ],
   "source": [
    "team_data[team_data['team_long_name'] == 'Arsenal']['id'].values[0]"
   ]
  },
  {
   "cell_type": "code",
   "execution_count": 59,
   "id": "400aa7d0",
   "metadata": {},
   "outputs": [],
   "source": [
    "arsenal_api_id = 9825"
   ]
  },
  {
   "cell_type": "code",
   "execution_count": 60,
   "id": "ac28c953",
   "metadata": {},
   "outputs": [],
   "source": [
    "arsenal_won_matches_2015_2016 = len(mathes_data[((mathes_data['home_team_api_id'] == arsenal_api_id) & \\\n",
    "                                         (mathes_data['season'] == \"2015/2016\") & \\\n",
    "                                         (mathes_data['home_team_goal'] > mathes_data['away_team_goal'])) |\\\n",
    "                                       \n",
    "                                        ((mathes_data['away_team_api_id'] == arsenal_api_id) & \\\n",
    "                                         (mathes_data['season'] == \"2015/2016\") & \\\n",
    "                                         (mathes_data['away_team_goal'] > mathes_data['home_team_goal']))])"
   ]
  },
  {
   "cell_type": "code",
   "execution_count": 74,
   "id": "660f0daf",
   "metadata": {},
   "outputs": [
    {
     "data": {
      "text/plain": [
       "20"
      ]
     },
     "execution_count": 74,
     "metadata": {},
     "output_type": "execute_result"
    }
   ],
   "source": [
    "arsenal_won_matches_2015_2016"
   ]
  },
  {
   "cell_type": "markdown",
   "id": "d70d5b23",
   "metadata": {},
   "source": [
    "**Task 14 (2 points).** Find a team with the highest win rate in the **2015/2016** season. Win rate means won matches / all matches. If there are several teams with the highest win rate return the first by name in lexical order"
   ]
  },
  {
   "cell_type": "code",
   "execution_count": 61,
   "id": "90df9352",
   "metadata": {},
   "outputs": [],
   "source": [
    "mathes_data = mathes_data[mathes_data['season'] == \"2015/2016\"]"
   ]
  },
  {
   "cell_type": "code",
   "execution_count": 62,
   "id": "aa617cc8",
   "metadata": {},
   "outputs": [],
   "source": [
    "team_data = pd.read_sql(\"SELECT * FROM Team\", db)"
   ]
  },
  {
   "cell_type": "code",
   "execution_count": 63,
   "id": "6901db67",
   "metadata": {
    "scrolled": true
   },
   "outputs": [],
   "source": [
    "def winrate(team_id):\n",
    "    win = len(mathes_data[((mathes_data['home_team_api_id'] == team_id) & \\\n",
    "                           (mathes_data['home_team_goal'] > mathes_data['away_team_goal'])) |\\\n",
    "                                       \n",
    "                          ((mathes_data['away_team_api_id'] == team_id) & \\\n",
    "                           (mathes_data['away_team_goal'] > mathes_data['home_team_goal']))])\n",
    "    \n",
    "    all_match = len(mathes_data[(mathes_data['home_team_api_id'] == team_id) | (mathes_data['away_team_api_id'] == team_id) ])\n",
    "    if all_match != 0:\n",
    "        return(win / all_match)\n",
    "    else:\n",
    "        return 0\n",
    "\n",
    "    \n",
    "    \n",
    "lst = [(team_data[team_data['team_api_id'] == team_id]['team_long_name'].values.tolist()[0], winrate(team_id)) \\\n",
    "       for team_id in team_data['team_api_id'].values.tolist()]"
   ]
  },
  {
   "cell_type": "code",
   "execution_count": 64,
   "id": "4a1ebb5f",
   "metadata": {},
   "outputs": [],
   "source": [
    "lst.sort(key=lambda x: (x[1], x[0]), reverse=True)"
   ]
  },
  {
   "cell_type": "code",
   "execution_count": 65,
   "id": "b1aa7db0",
   "metadata": {},
   "outputs": [],
   "source": [
    "team_highest_winrate_2015_2016 = lst[0][0]"
   ]
  },
  {
   "cell_type": "code",
   "execution_count": 66,
   "id": "cddf0bc3",
   "metadata": {},
   "outputs": [
    {
     "data": {
      "text/plain": [
       "'SL Benfica'"
      ]
     },
     "execution_count": 66,
     "metadata": {},
     "output_type": "execute_result"
    }
   ],
   "source": [
    "team_highest_winrate_2015_2016"
   ]
  },
  {
   "cell_type": "code",
   "execution_count": 67,
   "id": "05ca57f4",
   "metadata": {},
   "outputs": [
    {
     "data": {
      "text/plain": [
       "[('SL Benfica', 0.8529411764705882),\n",
       " ('FC Bayern Munich', 0.8235294117647058),\n",
       " ('Sporting CP', 0.7941176470588235),\n",
       " ('Paris Saint-Germain', 0.7894736842105263),\n",
       " ('PSV', 0.7647058823529411),\n",
       " ('Juventus', 0.7631578947368421),\n",
       " ('FC Barcelona', 0.7631578947368421),\n",
       " ('Real Madrid CF', 0.7368421052631579),\n",
       " ('Atlético Madrid', 0.7368421052631579),\n",
       " ('Ajax', 0.7352941176470589),\n",
       " ('FC Basel', 0.7222222222222222),\n",
       " ('Borussia Dortmund', 0.7058823529411765),\n",
       " ('Club Brugge KV', 0.7),\n",
       " ('Celtic', 0.6842105263157895),\n",
       " ('FC Porto', 0.6764705882352942),\n",
       " ('Napoli', 0.6578947368421053),\n",
       " ('Roma', 0.6052631578947368),\n",
       " ('Leicester City', 0.6052631578947368),\n",
       " ('Aberdeen', 0.5789473684210527),\n",
       " ('Piast Gliwice', 0.5666666666666667),\n",
       " ('Legia Warszawa', 0.5666666666666667),\n",
       " ('KAA Gent', 0.5666666666666667),\n",
       " ('Feyenoord', 0.5588235294117647),\n",
       " ('BSC Young Boys', 0.5555555555555556),\n",
       " ('Bayer 04 Leverkusen', 0.5294117647058824),\n",
       " ('AZ', 0.5294117647058824),\n",
       " ('Inter', 0.5263157894736842),\n",
       " ('Arsenal', 0.5263157894736842),\n",
       " ('Tottenham Hotspur', 0.5),\n",
       " ('RSC Anderlecht', 0.5),\n",
       " ('Olympique Lyonnais', 0.5),\n",
       " ('Manchester United', 0.5),\n",
       " ('Manchester City', 0.5),\n",
       " ('Borussia Mönchengladbach', 0.5),\n",
       " ('Villarreal CF', 0.47368421052631576),\n",
       " ('Southampton', 0.47368421052631576),\n",
       " ('OGC Nice', 0.47368421052631576),\n",
       " ('Heart of Midlothian', 0.47368421052631576),\n",
       " ('Fiorentina', 0.47368421052631576),\n",
       " ('Athletic Club de Bilbao', 0.47368421052631576),\n",
       " ('SC Braga', 0.47058823529411764),\n",
       " ('KV Oostende', 0.4666666666666667),\n",
       " ('KRC Genk', 0.4666666666666667),\n",
       " ('RC Celta de Vigo', 0.4473684210526316),\n",
       " ('AS Saint-Étienne', 0.4473684210526316),\n",
       " ('AS Monaco', 0.4473684210526316),\n",
       " ('FC Utrecht', 0.4411764705882353),\n",
       " ('FC Schalke 04', 0.4411764705882353),\n",
       " ('Lech Poznań', 0.43333333333333335),\n",
       " ('West Ham United', 0.42105263157894735),\n",
       " ('St. Johnstone FC', 0.42105263157894735),\n",
       " ('Sassuolo', 0.42105263157894735),\n",
       " ('SM Caen', 0.42105263157894735),\n",
       " ('Liverpool', 0.42105263157894735),\n",
       " ('Grasshopper Club Zürich', 0.4166666666666667),\n",
       " ('FC Luzern', 0.4166666666666667),\n",
       " ('Rio Ave FC', 0.4117647058823529),\n",
       " ('PEC Zwolle', 0.4117647058823529),\n",
       " ('Hertha BSC Berlin', 0.4117647058823529),\n",
       " ('Heracles Almelo', 0.4117647058823529),\n",
       " ('FC Groningen', 0.4117647058823529),\n",
       " ('1. FSV Mainz 05', 0.4117647058823529),\n",
       " ('Zagłębie Lubin', 0.4),\n",
       " ('Standard de Liège', 0.4),\n",
       " ('SV Zulte-Waregem', 0.4),\n",
       " ('Cracovia', 0.4),\n",
       " ('Motherwell', 0.39473684210526316),\n",
       " ('Milan', 0.39473684210526316),\n",
       " ('Lazio', 0.39473684210526316),\n",
       " ('LOSC Lille', 0.39473684210526316),\n",
       " ('FC Sion', 0.3888888888888889),\n",
       " ('N.E.C.', 0.38235294117647056),\n",
       " ('FC Paços de Ferreira', 0.38235294117647056),\n",
       " ('FC Arouca', 0.38235294117647056),\n",
       " ('Estoril Praia', 0.38235294117647056),\n",
       " ('Stoke City', 0.3684210526315789),\n",
       " ('Sevilla FC', 0.3684210526315789),\n",
       " ('SC Bastia', 0.3684210526315789),\n",
       " ('Ross County FC', 0.3684210526315789),\n",
       " ('Montpellier Hérault SC', 0.3684210526315789),\n",
       " ('Inverness Caledonian Thistle', 0.3684210526315789),\n",
       " ('Ruch Chorzów', 0.36666666666666664),\n",
       " ('Vitesse', 0.35294117647058826),\n",
       " ('VfL Wolfsburg', 0.35294117647058826),\n",
       " ('FC Twente', 0.35294117647058826),\n",
       " ('Stade Rennais FC', 0.34210526315789475),\n",
       " ('Real Sociedad', 0.34210526315789475),\n",
       " ('Genoa', 0.34210526315789475),\n",
       " ('Chievo Verona', 0.34210526315789475),\n",
       " ('Angers SCO', 0.34210526315789475),\n",
       " ('Sporting Charleroi', 0.3333333333333333),\n",
       " ('Pogoń Szczecin', 0.3333333333333333),\n",
       " ('Lechia Gdańsk', 0.3333333333333333),\n",
       " ('KV Mechelen', 0.3333333333333333),\n",
       " ('KV Kortrijk', 0.3333333333333333),\n",
       " ('Jagiellonia Białystok', 0.3333333333333333),\n",
       " ('SC Heerenveen', 0.3235294117647059),\n",
       " ('Hamburger SV', 0.3235294117647059),\n",
       " ('Watford', 0.3157894736842105),\n",
       " ('UD Las Palmas', 0.3157894736842105),\n",
       " ('Torino', 0.3157894736842105),\n",
       " ('Swansea City', 0.3157894736842105),\n",
       " ('RCD Espanyol', 0.3157894736842105),\n",
       " ('Partick Thistle F.C.', 0.3157894736842105),\n",
       " ('Málaga CF', 0.3157894736842105),\n",
       " ('Girondins de Bordeaux', 0.3157894736842105),\n",
       " ('FC Nantes', 0.3157894736842105),\n",
       " ('Empoli', 0.3157894736842105),\n",
       " ('Chelsea', 0.3157894736842105),\n",
       " ('Waasland-Beveren', 0.3),\n",
       " ('Podbeskidzie Bielsko-Biała', 0.3),\n",
       " ('Korona Kielce', 0.3),\n",
       " ('SV Werder Bremen', 0.29411764705882354),\n",
       " ('FC Ingolstadt 04', 0.29411764705882354),\n",
       " ('CS Marítimo', 0.29411764705882354),\n",
       " ('CF Os Belenenses', 0.29411764705882354),\n",
       " ('CD Nacional', 0.29411764705882354),\n",
       " ('ADO Den Haag', 0.29411764705882354),\n",
       " ('1. FC Köln', 0.29411764705882354),\n",
       " ('Valencia CF', 0.2894736842105263),\n",
       " ('SD Eibar', 0.2894736842105263),\n",
       " ('Real Betis Balompié', 0.2894736842105263),\n",
       " ('Hamilton Academical FC', 0.2894736842105263),\n",
       " ('FC Lorient', 0.2894736842105263),\n",
       " ('Everton', 0.2894736842105263),\n",
       " ('En Avant de Guingamp', 0.2894736842105263),\n",
       " ('Dundee FC', 0.2894736842105263),\n",
       " ('Crystal Palace', 0.2894736842105263),\n",
       " ('Bournemouth', 0.2894736842105263),\n",
       " ('Bologna', 0.2894736842105263),\n",
       " ('Atalanta', 0.2894736842105263),\n",
       " ('FC Thun', 0.2777777777777778),\n",
       " ('FC St. Gallen', 0.2777777777777778),\n",
       " ('Śląsk Wrocław', 0.26666666666666666),\n",
       " ('Wisła Kraków', 0.26666666666666666),\n",
       " ('Termalica Bruk-Bet Nieciecza', 0.26666666666666666),\n",
       " ('Sporting Lokeren', 0.26666666666666666),\n",
       " ('Sint-Truidense VV', 0.26666666666666666),\n",
       " ('Górnik Łęczna', 0.26666666666666666),\n",
       " ('Vitória Guimarães', 0.2647058823529412),\n",
       " ('VfB Stuttgart', 0.2647058823529412),\n",
       " ('TSG 1899 Hoffenheim', 0.2647058823529412),\n",
       " ('SV Darmstadt 98', 0.2647058823529412),\n",
       " ('Moreirense FC', 0.2647058823529412),\n",
       " ('FC Augsburg', 0.2647058823529412),\n",
       " ('Eintracht Frankfurt', 0.2647058823529412),\n",
       " ('West Bromwich Albion', 0.2631578947368421),\n",
       " ('Udinese', 0.2631578947368421),\n",
       " ('Stade de Reims', 0.2631578947368421),\n",
       " ('Sampdoria', 0.2631578947368421),\n",
       " ('Real Sporting de Gijón', 0.2631578947368421),\n",
       " ('Palermo', 0.2631578947368421),\n",
       " ('Olympique de Marseille', 0.2631578947368421),\n",
       " ('Granada CF', 0.2631578947368421),\n",
       " ('Lugano', 0.25),\n",
       " ('Toulouse FC', 0.23684210526315788),\n",
       " ('Sunderland', 0.23684210526315788),\n",
       " ('Rayo Vallecano', 0.23684210526315788),\n",
       " ('Norwich City', 0.23684210526315788),\n",
       " ('Newcastle United', 0.23684210526315788),\n",
       " ('Kilmarnock', 0.23684210526315788),\n",
       " ('Getafe CF', 0.23684210526315788),\n",
       " ('Carpi', 0.23684210526315788),\n",
       " ('Tondela', 0.23529411764705882),\n",
       " ('Roda JC Kerkrade', 0.23529411764705882),\n",
       " ('Boavista FC', 0.23529411764705882),\n",
       " ('Royal Excel Mouscron', 0.23333333333333334),\n",
       " ('Oud-Heverlee Leuven', 0.23333333333333334),\n",
       " ('KVC Westerlo', 0.23333333333333334),\n",
       " ('RC Deportivo de La Coruña', 0.21052631578947367),\n",
       " ('Levante UD', 0.21052631578947367),\n",
       " ('GFC Ajaccio', 0.21052631578947367),\n",
       " ('Frosinone', 0.21052631578947367),\n",
       " ('Dundee United', 0.21052631578947367),\n",
       " ('Uniao da Madeira', 0.20588235294117646),\n",
       " ('Hannover 96', 0.20588235294117646),\n",
       " ('Excelsior', 0.20588235294117646),\n",
       " ('FC Zürich', 0.19444444444444445),\n",
       " ('FC Vaduz', 0.19444444444444445),\n",
       " ('Willem II', 0.17647058823529413),\n",
       " ('Vitória Setúbal', 0.17647058823529413),\n",
       " ('De Graafschap', 0.14705882352941177),\n",
       " ('Académica de Coimbra', 0.14705882352941177),\n",
       " ('Polonia Bytom', 0.13333333333333333),\n",
       " ('Hellas Verona', 0.13157894736842105),\n",
       " ('SC Cambuur', 0.08823529411764706),\n",
       " ('ES Troyes AC', 0.07894736842105263),\n",
       " ('Aston Villa', 0.07894736842105263),\n",
       " ('Évian Thonon Gaillard FC', 0),\n",
       " ('Zawisza Bydgoszcz', 0),\n",
       " ('Xerez Club Deportivo', 0),\n",
       " ('Wolverhampton Wanderers', 0),\n",
       " ('Wigan Athletic', 0),\n",
       " ('Widzew Łódź', 0),\n",
       " ('Widzew Łódź', 0),\n",
       " ('VfL Bochum', 0),\n",
       " ('Valenciennes FC', 0),\n",
       " ('VVV-Venlo', 0),\n",
       " ('União de Leiria, SAD', 0),\n",
       " (\"US Boulogne Cote D'Opale\", 0),\n",
       " ('UD Almería', 0),\n",
       " ('Tubize', 0),\n",
       " ('Trofense', 0),\n",
       " ('Stade Brestois 29', 0),\n",
       " ('St. Mirren', 0),\n",
       " ('Sparta Rotterdam', 0),\n",
       " ('SpVgg Greuther Fürth', 0),\n",
       " ('Siena', 0),\n",
       " ('Servette FC', 0),\n",
       " ('SC Paderborn 07', 0),\n",
       " ('SC Freiburg', 0),\n",
       " ('SC Beira Mar', 0),\n",
       " ('S.C. Olhanense', 0),\n",
       " ('Royal Excel Mouscron', 0),\n",
       " ('Reggio Calabria', 0),\n",
       " ('Real Zaragoza', 0),\n",
       " ('Real Valladolid', 0),\n",
       " ('Reading', 0),\n",
       " ('Rangers', 0),\n",
       " ('Racing Santander', 0),\n",
       " ('RKC Waalwijk', 0),\n",
       " ('RCD Mallorca', 0),\n",
       " ('RC Recreativo', 0),\n",
       " ('RC Lens', 0),\n",
       " ('RAEC Mons', 0),\n",
       " ('Queens Park Rangers', 0),\n",
       " ('Portsmouth', 0),\n",
       " ('Portimonense', 0),\n",
       " ('Polonia Bytom', 0),\n",
       " ('Pescara', 0),\n",
       " ('Parma', 0),\n",
       " ('P. Warszawa', 0),\n",
       " ('Odra Wodzisław', 0),\n",
       " ('Novara', 0),\n",
       " ('Neuchâtel Xamax', 0),\n",
       " ('Naval 1° de Maio', 0),\n",
       " ('NAC Breda', 0),\n",
       " ('Middlesbrough', 0),\n",
       " ('Livorno', 0),\n",
       " ('Lierse SK', 0),\n",
       " ('Leixões SC', 0),\n",
       " ('Lecce', 0),\n",
       " ('Le Mans FC', 0),\n",
       " ('Le Havre AC', 0),\n",
       " ('Karlsruher SC', 0),\n",
       " ('KSV Roeselare', 0),\n",
       " ('KSV Cercle Brugge', 0),\n",
       " ('KAS Eupen', 0),\n",
       " ('Hércules Club de Fútbol', 0),\n",
       " ('Hull City', 0),\n",
       " ('Hibernian', 0),\n",
       " ('Grenoble Foot 38', 0),\n",
       " ('Go Ahead Eagles', 0),\n",
       " ('Gil Vicente FC', 0),\n",
       " ('GKS Bełchatów', 0),\n",
       " ('Fulham', 0),\n",
       " ('Fortuna Düsseldorf', 0),\n",
       " ('Feirense', 0),\n",
       " ('Falkirk', 0),\n",
       " ('FCV Dender EH', 0),\n",
       " ('FC Volendam', 0),\n",
       " ('FC St. Pauli', 0),\n",
       " ('FC Sochaux-Montbéliard', 0),\n",
       " ('FC Penafiel', 0),\n",
       " ('FC Metz', 0),\n",
       " ('FC Lausanne-Sports', 0),\n",
       " ('FC Energie Cottbus', 0),\n",
       " ('FC Dordrecht', 0),\n",
       " ('FC Aarau', 0),\n",
       " ('Elche CF', 0),\n",
       " ('Eintracht Braunschweig', 0),\n",
       " ('Dunfermline Athletic', 0),\n",
       " ('Dijon FCO', 0),\n",
       " ('DSC Arminia Bielefeld', 0),\n",
       " ('Córdoba CF', 0),\n",
       " ('Cesena', 0),\n",
       " ('Catania', 0),\n",
       " ('Cardiff City', 0),\n",
       " ('Cagliari', 0),\n",
       " ('CD Tenerife', 0),\n",
       " ('CD Numancia', 0),\n",
       " ('CA Osasuna', 0),\n",
       " ('Burnley', 0),\n",
       " ('Brescia', 0),\n",
       " ('Bolton Wanderers', 0),\n",
       " ('Blackpool', 0),\n",
       " ('Blackburn Rovers', 0),\n",
       " ('Birmingham City', 0),\n",
       " ('Beerschot AC', 0),\n",
       " ('Bari', 0),\n",
       " ('Arka Gdynia', 0),\n",
       " ('Amadora', 0),\n",
       " ('AS Nancy-Lorraine', 0),\n",
       " ('AJ Auxerre', 0),\n",
       " ('AC Bellinzona', 0),\n",
       " ('AC Arles-Avignon', 0),\n",
       " ('AC Ajaccio', 0),\n",
       " ('1. FC Nürnberg', 0),\n",
       " ('1. FC Kaiserslautern', 0)]"
      ]
     },
     "execution_count": 67,
     "metadata": {},
     "output_type": "execute_result"
    }
   ],
   "source": [
    "lst"
   ]
  },
  {
   "cell_type": "markdown",
   "id": "f7f3b4f5",
   "metadata": {},
   "source": [
    "**Task 15 (2 points).** Determine the team with the maximum days' gap between matches in **England Premier League 2010/2011 season**. Return number of days in that gap. <br>\n",
    "**Note**: a *gap* means the number of days between two consecutive matches of the same team."
   ]
  },
  {
   "cell_type": "code",
   "execution_count": 81,
   "id": "17852eaa",
   "metadata": {},
   "outputs": [],
   "source": [
    "mathes_data = pd.read_sql(\"SELECT * FROM Match\", db)"
   ]
  },
  {
   "cell_type": "code",
   "execution_count": 82,
   "id": "3396aea0",
   "metadata": {},
   "outputs": [],
   "source": [
    "mathes_data = mathes_data[(mathes_data['league_id'] == 1729) & (mathes_data['season'] == '2010/2011')]"
   ]
  },
  {
   "cell_type": "code",
   "execution_count": 83,
   "id": "f0a25640",
   "metadata": {
    "scrolled": false
   },
   "outputs": [],
   "source": [
    "mathes_data['date'] = pd.to_datetime(mathes_data['date'], yearfirst=True, format=\"%Y-%m-%d %X\", )"
   ]
  },
  {
   "cell_type": "code",
   "execution_count": 84,
   "id": "affd9b56",
   "metadata": {
    "scrolled": true
   },
   "outputs": [],
   "source": [
    "mathes_data = mathes_data.sort_values(by=['date'])"
   ]
  },
  {
   "cell_type": "code",
   "execution_count": 85,
   "id": "89281f06",
   "metadata": {
    "scrolled": true
   },
   "outputs": [],
   "source": [
    "lst = []\n",
    "for team_id in team_data['team_api_id'].values.tolist():\n",
    "    date_of_matches_team = mathes_data[(mathes_data['home_team_api_id'] == team_id) | (mathes_data['away_team_api_id'] == team_id)]['date']\n",
    "    date_of_matches_team = date_of_matches_team.sort_values()\n",
    "    \n",
    "    if not date_of_matches_team.empty:\n",
    "        start = date_of_matches_team[:1]\n",
    "        lst_2 = []\n",
    "        t = pd.to_datetime(['2011-11-11'])\n",
    "        for num, match_date in enumerate(date_of_matches_team[1:]):\n",
    "            lst_2.append(t + (match_date - start))\n",
    "            start = match_date\n",
    "        \n",
    "        lst.append((max(lst_2), team_id))\n",
    "        \n",
    "\n",
    "x = pd.Series(lst)\n",
    "x = x.sort_values(ascending=False)\n",
    "\n",
    "highest_gap_england_2010_2011 = (x.head(1).values[0][0][0] - t)[0].days"
   ]
  },
  {
   "cell_type": "code",
   "execution_count": 180,
   "id": "990f733b",
   "metadata": {},
   "outputs": [
    {
     "data": {
      "text/plain": [
       "18"
      ]
     },
     "execution_count": 180,
     "metadata": {},
     "output_type": "execute_result"
    }
   ],
   "source": [
    "highest_gap_england_2010_2011\n"
   ]
  },
  {
   "cell_type": "code",
   "execution_count": 28,
   "id": "5fcc289e",
   "metadata": {
    "scrolled": true
   },
   "outputs": [],
   "source": [
    "assert(isinstance(players_180_190, int))\n",
    "assert(isinstance(players_1980, int))\n"
   ]
  },
  {
   "cell_type": "code",
   "execution_count": 182,
   "id": "a4c33e5f",
   "metadata": {},
   "outputs": [],
   "source": [
    "assert(len(highest_players) == 10)\n",
    "assert(isinstance(highest_players, list))\n",
    "for i in range(10):\n",
    "    assert(isinstance(highest_players[i], str))"
   ]
  },
  {
   "cell_type": "code",
   "execution_count": 89,
   "id": "4caa1a7f",
   "metadata": {},
   "outputs": [],
   "source": [
    "assert(len(years_born_players) == 11)\n",
    "assert(isinstance(years_born_players, list))\n",
    "for i in range(10):\n",
    "    assert(isinstance(years_born_players[i], tuple))\n",
    "    assert(isinstance(years_born_players[i][0], int))\n",
    "    assert(isinstance(years_born_players[i][1], int))"
   ]
  },
  {
   "cell_type": "code",
   "execution_count": 90,
   "id": "58c0906b",
   "metadata": {},
   "outputs": [],
   "source": [
    "assert(isinstance(adriano_mean, float))\n",
    "assert(isinstance(adriano_std, float))"
   ]
  },
  {
   "cell_type": "code",
   "execution_count": 91,
   "id": "41f63cf0",
   "metadata": {},
   "outputs": [],
   "source": [
    "assert(isinstance(dow_with_min_players_born, str))\n"
   ]
  },
  {
   "cell_type": "code",
   "execution_count": 92,
   "id": "c2be7681",
   "metadata": {},
   "outputs": [],
   "source": [
    "assert(isinstance(league_most_matches, str))"
   ]
  },
  {
   "cell_type": "code",
   "execution_count": 93,
   "id": "086bbec5",
   "metadata": {},
   "outputs": [],
   "source": [
    "assert(isinstance(max_matches_player, str))"
   ]
  },
  {
   "cell_type": "code",
   "execution_count": 94,
   "id": "18f2dd0d",
   "metadata": {},
   "outputs": [],
   "source": [
    "assert(len(top_correlated_features) == 5)\n",
    "assert(isinstance(top_correlated_features, list))\n",
    "for i in range(5):\n",
    "    assert(isinstance(top_correlated_features[i], tuple))\n",
    "    assert(isinstance(top_correlated_features[i][0], str))\n",
    "    assert(isinstance(top_correlated_features[i][1], str))"
   ]
  },
  {
   "cell_type": "code",
   "execution_count": 95,
   "id": "eeb66a6d",
   "metadata": {},
   "outputs": [],
   "source": [
    "assert(len(neymar_similarities) == 5)\n",
    "assert(isinstance(neymar_similarities, list))\n",
    "for i in range(5):\n",
    "    assert(isinstance(neymar_similarities[i], str))"
   ]
  },
  {
   "cell_type": "code",
   "execution_count": 96,
   "id": "cc45ecc7",
   "metadata": {},
   "outputs": [],
   "source": [
    "assert(isinstance(borussia_bundesliga_2008_2009_matches, int))"
   ]
  },
  {
   "cell_type": "code",
   "execution_count": 97,
   "id": "d6838a8b",
   "metadata": {},
   "outputs": [],
   "source": [
    "assert(isinstance(team_most_matches_bundesliga_2008_2009, int))"
   ]
  },
  {
   "cell_type": "code",
   "execution_count": 98,
   "id": "73f3f29e",
   "metadata": {},
   "outputs": [],
   "source": [
    "assert(isinstance(arsenal_won_matches_2015_2016, int))"
   ]
  },
  {
   "cell_type": "code",
   "execution_count": 99,
   "id": "105791b0",
   "metadata": {},
   "outputs": [],
   "source": [
    "assert(isinstance(team_highest_winrate_2015_2016, str))"
   ]
  },
  {
   "cell_type": "code",
   "execution_count": 100,
   "id": "f0d9f804",
   "metadata": {},
   "outputs": [],
   "source": [
    "assert(isinstance(highest_gap_england_2010_2011, int))"
   ]
  },
  {
   "cell_type": "markdown",
   "id": "acecc77f",
   "metadata": {},
   "source": [
    "### Warning! Do not change anything in the area below"
   ]
  },
  {
   "cell_type": "code",
   "execution_count": 491,
   "id": "94c3b9be",
   "metadata": {},
   "outputs": [],
   "source": [
    "with open('student_answers.txt', 'w') as file:\n",
    "    file.write(f\"{players_180_190}\\n\")\n",
    "    file.write(f\"{players_1980}\\n\")\n",
    "    file.write(f\"{highest_players}\\n\")\n",
    "    file.write(f\"{years_born_players}\\n\")\n",
    "    file.write(f\"{round(adriano_mean, 3)} {round(adriano_std, 3)}\\n\")\n",
    "    file.write(f\"{dow_with_min_players_born}\\n\")\n",
    "    file.write(f\"{league_most_matches}\\n\")\n",
    "    file.write(f\"{max_matches_player}\\n\")\n",
    "    file.write(f\"{';'.join(['%s,%s' % tup for tup in top_correlated_features])};\\n\")\n",
    "    file.write(f\"{neymar_similarities}\\n\")\n",
    "    file.write(f\"{borussia_bundesliga_2008_2009_matches}\\n\")\n",
    "    file.write(f\"{team_most_matches_bundesliga_2008_2009}\\n\")\n",
    "    file.write(f\"{arsenal_won_matches_2015_2016}\\n\")\n",
    "    file.write(f\"{team_highest_winrate_2015_2016}\\n\")\n",
    "    file.write(f\"{highest_gap_england_2010_2011}\\n\")"
   ]
  },
  {
   "cell_type": "code",
   "execution_count": null,
   "id": "da26fd70",
   "metadata": {},
   "outputs": [],
   "source": []
  }
 ],
 "metadata": {
  "kernelspec": {
   "display_name": "Python 3 (ipykernel)",
   "language": "python",
   "name": "python3"
  },
  "language_info": {
   "codemirror_mode": {
    "name": "ipython",
    "version": 3
   },
   "file_extension": ".py",
   "mimetype": "text/x-python",
   "name": "python",
   "nbconvert_exporter": "python",
   "pygments_lexer": "ipython3",
   "version": "3.8.9"
  }
 },
 "nbformat": 4,
 "nbformat_minor": 5
}
